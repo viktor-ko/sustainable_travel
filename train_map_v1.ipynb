{
 "cells": [
  {
   "cell_type": "code",
   "execution_count": 1,
   "id": "27664f03-ffc4-4f8d-ba5d-df6798e2b212",
   "metadata": {},
   "outputs": [
    {
     "data": {
      "text/html": [
       "\n",
       "<div id=\"altair-viz-8e074e84c1c94d4eba84d09f4b61d435\"></div>\n",
       "<script type=\"text/javascript\">\n",
       "  var VEGA_DEBUG = (typeof VEGA_DEBUG == \"undefined\") ? {} : VEGA_DEBUG;\n",
       "  (function(spec, embedOpt){\n",
       "    let outputDiv = document.currentScript.previousElementSibling;\n",
       "    if (outputDiv.id !== \"altair-viz-8e074e84c1c94d4eba84d09f4b61d435\") {\n",
       "      outputDiv = document.getElementById(\"altair-viz-8e074e84c1c94d4eba84d09f4b61d435\");\n",
       "    }\n",
       "    const paths = {\n",
       "      \"vega\": \"https://cdn.jsdelivr.net/npm//vega@5?noext\",\n",
       "      \"vega-lib\": \"https://cdn.jsdelivr.net/npm//vega-lib?noext\",\n",
       "      \"vega-lite\": \"https://cdn.jsdelivr.net/npm//vega-lite@4.17.0?noext\",\n",
       "      \"vega-embed\": \"https://cdn.jsdelivr.net/npm//vega-embed@6?noext\",\n",
       "    };\n",
       "\n",
       "    function maybeLoadScript(lib, version) {\n",
       "      var key = `${lib.replace(\"-\", \"\")}_version`;\n",
       "      return (VEGA_DEBUG[key] == version) ?\n",
       "        Promise.resolve(paths[lib]) :\n",
       "        new Promise(function(resolve, reject) {\n",
       "          var s = document.createElement('script');\n",
       "          document.getElementsByTagName(\"head\")[0].appendChild(s);\n",
       "          s.async = true;\n",
       "          s.onload = () => {\n",
       "            VEGA_DEBUG[key] = version;\n",
       "            return resolve(paths[lib]);\n",
       "          };\n",
       "          s.onerror = () => reject(`Error loading script: ${paths[lib]}`);\n",
       "          s.src = paths[lib];\n",
       "        });\n",
       "    }\n",
       "\n",
       "    function showError(err) {\n",
       "      outputDiv.innerHTML = `<div class=\"error\" style=\"color:red;\">${err}</div>`;\n",
       "      throw err;\n",
       "    }\n",
       "\n",
       "    function displayChart(vegaEmbed) {\n",
       "      vegaEmbed(outputDiv, spec, embedOpt)\n",
       "        .catch(err => showError(`Javascript Error: ${err.message}<br>This usually means there's a typo in your chart specification. See the javascript console for the full traceback.`));\n",
       "    }\n",
       "\n",
       "    if(typeof define === \"function\" && define.amd) {\n",
       "      requirejs.config({paths});\n",
       "      require([\"vega-embed\"], displayChart, err => showError(`Error loading script: ${err.message}`));\n",
       "    } else {\n",
       "      maybeLoadScript(\"vega\", \"5\")\n",
       "        .then(() => maybeLoadScript(\"vega-lite\", \"4.17.0\"))\n",
       "        .then(() => maybeLoadScript(\"vega-embed\", \"6\"))\n",
       "        .catch(showError)\n",
       "        .then(() => displayChart(vegaEmbed));\n",
       "    }\n",
       "  })({\"config\": {\"view\": {\"continuousWidth\": 400, \"continuousHeight\": 300}}, \"data\": {\"url\": \"https://dmws.hkvservices.nl/dataportal/data.asmx/read?database=vega&key=europe\", \"format\": {\"feature\": \"europe\", \"type\": \"topojson\"}}, \"mark\": {\"type\": \"geoshape\", \"fill\": \"lightgray\", \"stroke\": \"white\"}, \"height\": 600, \"projection\": {\"type\": \"mercator\"}, \"width\": 900, \"$schema\": \"https://vega.github.io/schema/vega-lite/v4.17.0.json\"}, {\"mode\": \"vega-lite\"});\n",
       "</script>"
      ],
      "text/plain": [
       "alt.Chart(...)"
      ]
     },
     "execution_count": 1,
     "metadata": {},
     "output_type": "execute_result"
    }
   ],
   "source": [
    "import altair as alt\n",
    "from vega_datasets import data\n",
    "\n",
    "europe = alt.topo_feature('https://dmws.hkvservices.nl/dataportal/data.asmx/read?database=vega&key=europe', 'europe')\n",
    "\n",
    "alt.Chart(europe).mark_geoshape(\n",
    "    fill='lightgray',\n",
    "    stroke='white'\n",
    ").project(\n",
    "    \"mercator\"\n",
    ").properties(\n",
    "    width=900,\n",
    "    height=600\n",
    ")"
   ]
  },
  {
   "cell_type": "code",
   "id": "faf8c95f-fae5-49b8-91ea-4c8a66078308",
   "metadata": {
    "ExecuteTime": {
     "end_time": "2024-06-20T23:06:34.372401Z",
     "start_time": "2024-06-20T23:06:22.775544Z"
    }
   },
   "source": [
    "import requests\n",
    "import pandas as pd\n",
    "\n",
    "def get_coordinates(city, country, username='v_kochk'):\n",
    "    url = f'http://api.geonames.org/searchJSON?q={city}&country={country}&maxRows=1&username={username}'\n",
    "    response = requests.get(url)\n",
    "    data = response.json()\n",
    "    if data['geonames']:\n",
    "        city_data = data['geonames'][0]\n",
    "        return city_data['lat'], city_data['lng']\n",
    "    return None\n",
    "\n",
    "cities = [\n",
    "    ('Brindisi', 'IT'),\n",
    "    ('Varna', 'BG'),\n",
    "    ('Budapest', 'HU'),\n",
    "    ('Dresden', 'DE'),\n",
    "    ('Augsburg', 'DE'),\n",
    "    ('Bristol', 'GB'),\n",
    "    ('Newcastle', 'GB'),\n",
    "    ('San Marino', 'SM'),\n",
    "    ('Turin', 'IT'),\n",
    "    ('Lancaster', 'GB'),\n",
    "    ('Nice', 'FR'),\n",
    "    ('Växjö', 'SE'),\n",
    "    ('Linköping', 'SE'),\n",
    "    ('Nantes', 'FR'),\n",
    "    ('Trento', 'IT'),\n",
    "    ('Lyon', 'FR'),\n",
    "    ('Wroclaw', 'PL'),\n",
    "    ('Bratislava', 'SK'),\n",
    "    ('Bonn', 'DE'),\n",
    "    ('Umea', 'SE'),\n",
    "    ('Antwerp', 'BE'),\n",
    "    ('Naples', 'IT'),\n",
    "    ('Ljubljana', 'SI'),\n",
    "    ('Southampton', 'GB'),\n",
    "    ('Braunschweig', 'DE'),\n",
    "    ('Kosice', 'SK'),\n",
    "    ('Milan', 'IT'),\n",
    "    ('Toulouse', 'FR'),\n",
    "    ('Liverpool', 'GB'),\n",
    "    ('Rennes', 'FR'),\n",
    "    ('Prague', 'CZ'),\n",
    "    ('Innsbruck', 'AT'),\n",
    "    ('Paris', 'FR'),\n",
    "    ('Birmingham', 'GB'),\n",
    "    ('Warsaw', 'PL'),\n",
    "    ('Heidelberg', 'DE'),\n",
    "    ('Aarhus', 'DK'),\n",
    "    ('Iasi', 'RO'),\n",
    "    ('Venice', 'IT'),\n",
    "    ('Guildford', 'GB'),\n",
    "    ('Basel', 'CH'),\n",
    "    ('Pau', 'FR'),\n",
    "    ('Leipzig', 'DE'),\n",
    "    ('London', 'GB'),\n",
    "    ('Luxembourg', 'LU'),\n",
    "    ('Frankfurt', 'DE'),\n",
    "    ('Bern', 'CH'),\n",
    "    ('Sheffield', 'GB'),\n",
    "    ('Cardiff', 'GB'),\n",
    "    ('Vaduz', 'LI'),\n",
    "    ('Dortmund', 'DE'),\n",
    "    ('Brussels', 'BE'),\n",
    "    ('Bucharest', 'RO'),\n",
    "    ('Bologna', 'IT'),\n",
    "    ('Brno', 'CZ'),\n",
    "    ('Stavanger', 'NO'),\n",
    "    ('Sopron', 'HU'),\n",
    "    ('Pisa', 'IT'),\n",
    "    ('Montpellier', 'FR'),\n",
    "    ('Leuven', 'BE'),\n",
    "    ('Catania', 'IT'),\n",
    "    ('Lulea', 'SE'),\n",
    "    ('Bergen', 'NO'),\n",
    "    ('Lüneburg', 'DE'),\n",
    "    ('Göteborg', 'SE'),\n",
    "    ('Munich', 'DE'),\n",
    "    ('Middlesbrough', 'GB'),\n",
    "    ('Marseille', 'FR'),\n",
    "    ('Angers', 'FR'),\n",
    "    ('Ghent', 'BE'),\n",
    "    ('Tampere', 'FI'),\n",
    "    ('Palermo', 'IT'),\n",
    "    ('Karlsruhe', 'DE'),\n",
    "    ('Aberdeen', 'GB'),\n",
    "    ('Monaco', 'MC'),\n",
    "    ('Cologne', 'DE'),\n",
    "    ('Lausanne', 'CH'),\n",
    "    ('Geneva', 'CH'),\n",
    "    ('Charleroi', 'BE'),\n",
    "    ('Southend', 'GB'),\n",
    "    ('Salzburg', 'AT'),\n",
    "    ('Oslo', 'NO'),\n",
    "    ('Krakow', 'PL'),\n",
    "    ('Poznan', 'PL'),\n",
    "    ('Berlin', 'DE'),\n",
    "    ('Edinburgh', 'GB'),\n",
    "    ('Vasteras', 'SE'),\n",
    "    ('Exeter', 'GB'),\n",
    "    ('Rome', 'IT'),\n",
    "    ('Split', 'HR'),\n",
    "    ('Bari', 'IT'),\n",
    "    ('Copenhagen', 'DK'),\n",
    "    ('Genova', 'IT'),\n",
    "    ('Vienna', 'AT'),\n",
    "    ('Gdansk', 'PL'),\n",
    "    ('Kristiansand', 'NO'),\n",
    "    ('Hannover', 'DE'),\n",
    "    ('Bruges', 'BE'),\n",
    "    ('Roskilde', 'DK'),\n",
    "    ('Graz', 'AT'),\n",
    "    ('Glasgow', 'GB'),\n",
    "    ('Stuttgart', 'DE'),\n",
    "    ('Zagreb', 'HR'),\n",
    "    ('Münster', 'DE'),\n",
    "    ('Darmstadt', 'DE'),\n",
    "    ('Aachen', 'DE'),\n",
    "    ('Lodz', 'PL'),\n",
    "    ('Toulon', 'FR'),\n",
    "    ('Enschede', 'NL'),\n",
    "    ('Stockholm', 'SE'),\n",
    "    ('Cluj', 'RO'),\n",
    "    ('Bordeaux', 'FR'),\n",
    "    ('Zurich', 'CH'),\n",
    "    ('Florence', 'IT'),\n",
    "    ('Trondheim', 'NO'),\n",
    "    ('Helsinki', 'FI'),\n",
    "    ('Hamburg', 'DE'),\n",
    "    ('Andorra la Vella', 'AD'),\n",
    "    ('Verona', 'IT'),\n",
    "    ('Troyes', 'FR'),\n",
    "    ('Grenoble', 'FR'),\n",
    "    ('Odense', 'DK'),\n",
    "    ('Barcelona', 'ES'),\n",
    "    ('Manchester', 'GB'),\n",
    "    ('Doncaster', 'GB'),\n",
    "    ('Strasbourg', 'FR'),\n",
    "    ('Aalborg', 'DK'),\n",
    "    ('Lund', 'SE'),\n",
    "    ('Sofia', 'BG')\n",
    "]\n",
    "\n",
    "#fetch coordinates for each city\n",
    "cities_coordinates = []\n",
    "for city, country in cities:\n",
    "    coordinates = get_coordinates(city, country)\n",
    "    if coordinates:\n",
    "        cities_coordinates.append((city, coordinates[0], coordinates[1]))\n",
    "\n",
    "#convert to DataFrame \n",
    "cities_df = pd.DataFrame(cities_coordinates, columns=['city', 'latitude', 'longitude'])\n",
    "print(cities_df)"
   ],
   "outputs": [
    {
     "name": "stdout",
     "output_type": "stream",
     "text": [
      "           city  latitude longitude\n",
      "0      Brindisi  40.63215  17.93607\n",
      "1         Varna  43.21667  27.91667\n",
      "2      Budapest  47.49835  19.04045\n",
      "3       Dresden  51.05089  13.73832\n",
      "4      Augsburg  48.37154  10.89851\n",
      "..          ...       ...       ...\n",
      "124   Doncaster  53.52285  -1.13116\n",
      "125  Strasbourg  48.58392   7.74553\n",
      "126     Aalborg    57.048    9.9187\n",
      "127        Lund  55.70584  13.19321\n",
      "128       Sofia  42.69751  23.32415\n",
      "\n",
      "[129 rows x 3 columns]\n"
     ]
    }
   ],
   "execution_count": 10
  },
  {
   "metadata": {},
   "cell_type": "code",
   "outputs": [
    {
     "name": "stdout",
     "output_type": "stream",
     "text": [
      "['BRINDISI', 'VARNA', 'BUDAPEST', 'DRESDEN', 'AUGSBURG', 'BRISTOL', 'NEWCASTLE', 'SAN MARINO', 'TURIN', 'LANCASTER', 'NICE', 'VÄXJÖ', 'LINKÖPING', 'NANTES', 'TRENTO', 'LYON', 'WROCLAW', 'BRATISLAVA', 'BONN', 'UMEA', 'ANTWERP', 'NAPLES', 'LJUBLJANA', 'SOUTHAMPTON', 'BRAUNSCHWEIG', 'KOSICE', 'MILAN', 'TOULOUSE', 'LIVERPOOL', 'RENNES', 'PRAGUE', 'INNSBRUCK', 'PARIS', 'BIRMINGHAM', 'WARSAW', 'HEIDELBERG', 'AARHUS', 'IASI', 'VENICE', 'GUILDFORD', 'BASEL', 'PAU', 'LEIPZIG', 'LONDON', 'LUXEMBOURG', 'FRANKFURT', 'BERN', 'SHEFFIELD', 'CARDIFF', 'VADUZ', 'DORTMUND', 'BRUSSELS', 'BUCHAREST', 'BOLOGNA', 'BRNO', 'STAVANGER', 'SOPRON', 'PISA', 'MONTPELLIER', 'LEUVEN', 'CATANIA', 'LULEA', 'BERGEN', 'LÜNEBURG', 'GÖTEBORG', 'MUNICH', 'MIDDLESBROUGH', 'MARSEILLE', 'ANGERS', 'GHENT', 'TAMPERE', 'PALERMO', 'KARLSRUHE', 'ABERDEEN', 'MONACO', 'COLOGNE', 'LAUSANNE', 'GENEVA', 'CHARLEROI', 'SOUTHEND', 'SALZBURG', 'OSLO', 'KRAKOW', 'POZNAN', 'BERLIN', 'EDINBURGH', 'VASTERAS', 'EXETER', 'ROME', 'SPLIT', 'BARI', 'COPENHAGEN', 'GENOVA', 'VIENNA', 'GDANSK', 'KRISTIANSAND', 'HANNOVER', 'BRUGES', 'ROSKILDE', 'GRAZ', 'GLASGOW', 'STUTTGART', 'ZAGREB', 'MÜNSTER', 'DARMSTADT', 'AACHEN', 'LODZ', 'TOULON', 'ENSCHEDE', 'STOCKHOLM', 'CLUJ', 'BORDEAUX', 'ZURICH', 'FLORENCE', 'TRONDHEIM', 'HELSINKI', 'HAMBURG', 'ANDORRA LA VELLA', 'VERONA', 'TROYES', 'GRENOBLE', 'ODENSE', 'BARCELONA', 'MANCHESTER', 'DONCASTER', 'STRASBOURG', 'AALBORG', 'LUND', 'SOFIA']\n"
     ]
    }
   ],
   "execution_count": 9,
   "source": [
    "from bs4 import BeautifulSoup\n",
    "\n",
    "html = '''\n",
    "<div class=\"react-transform-component transform-component-module_content__uCDPE \" style=\"height: 100%; transform: translate3d(-1343px, -952px, 0px) scale(3);\"><img height=\"100%\" alt=\"test\" style=\"\" src=\"https://travelcheck.utsp.utwente.nl/file?guid=36028797018964069&amp;changedDate=1676540504218&amp;name=Train Map Image (update Latvia)(1).png\"><div data-id=\"BRINDISI\" class=\"map-marker\"><p data-id=\"BRINDISI\" style=\"position: absolute; top: 721px; left: 650.332px; font-size: 4px; visibility: hidden; z-index: 10;\">BRINDISI</p><img data-id=\"BRINDISI\" src=\"https://travelcheck-acc.utsp.utwente.nl/img/MarkerMap$Icons$IconUTYellow.png\" style=\"position: absolute; top: 728px; left: 656.5px; width: 5px; height: 6px; cursor: pointer; text-align: center; overflow: hidden; pointer-events: auto; visibility: visible;\"></div><div data-id=\"VARNA\" class=\"map-marker\"><p data-id=\"VARNA\" style=\"position: absolute; top: 638px; left: 813.258px; font-size: 4px; visibility: hidden; z-index: 10;\">VARNA</p><img data-id=\"VARNA\" src=\"https://travelcheck-acc.utsp.utwente.nl/img/MarkerMap$Icons$IconUTYellow.png\" style=\"position: absolute; top: 645px; left: 817.5px; width: 5px; height: 6px; cursor: pointer; text-align: center; overflow: hidden; pointer-events: auto; visibility: visible;\"></div><div data-id=\"BUDAPEST\" class=\"map-marker\"><p data-id=\"BUDAPEST\" style=\"position: absolute; top: 552px; left: 649.525px; font-size: 5px; visibility: visible; z-index: 10;\">BUDAPEST</p><img data-id=\"BUDAPEST\" src=\"https://travelcheck-acc.utsp.utwente.nl/img/MarkerMap$Icons$IconUTYellowBorder.png\" style=\"position: absolute; top: 561px; left: 659.5px; width: 7px; height: 8px; cursor: pointer; text-align: center; overflow: hidden; pointer-events: auto; visibility: visible;\"></div><div data-id=\"DRESDEN\" class=\"map-marker\"><p data-id=\"DRESDEN\" style=\"position: absolute; top: 479px; left: 571.221px; font-size: 4px; visibility: hidden; z-index: 10;\">DRESDEN</p><img data-id=\"DRESDEN\" src=\"https://travelcheck-acc.utsp.utwente.nl/img/MarkerMap$Icons$IconUTBlue.png\" style=\"position: absolute; top: 486px; left: 578.5px; width: 5px; height: 6px; cursor: pointer; text-align: center; overflow: hidden; pointer-events: auto; visibility: visible;\"></div><div data-id=\"AUGSBURG\" class=\"map-marker\"><p data-id=\"AUGSBURG\" style=\"position: absolute; top: 549px; left: 522.554px; font-size: 4px; visibility: hidden; z-index: 10;\">AUGSBURG</p><img data-id=\"AUGSBURG\" src=\"https://travelcheck-acc.utsp.utwente.nl/img/MarkerMap$Icons$IconUTBlue.png\" style=\"position: absolute; top: 556px; left: 531.5px; width: 5px; height: 6px; cursor: pointer; text-align: center; overflow: hidden; pointer-events: auto; visibility: visible;\"></div><div data-id=\"BRISTOL\" class=\"map-marker\"><p data-id=\"BRISTOL\" style=\"position: absolute; top: 448px; left: 333.479px; font-size: 4px; visibility: hidden; z-index: 10;\">BRISTOL</p><img data-id=\"BRISTOL\" src=\"https://travelcheck-acc.utsp.utwente.nl/img/MarkerMap$Icons$IconUTGreen.png\" style=\"position: absolute; top: 455px; left: 339.5px; width: 5px; height: 6px; cursor: pointer; text-align: center; overflow: hidden; pointer-events: auto; visibility: visible;\"></div><div data-id=\"NEWCASTLE\" class=\"map-marker\"><p data-id=\"NEWCASTLE\" style=\"position: absolute; top: 364px; left: 364.554px; font-size: 4px; visibility: hidden; z-index: 10;\">NEWCASTLE</p><img data-id=\"NEWCASTLE\" src=\"https://travelcheck-acc.utsp.utwente.nl/img/MarkerMap$Icons$IconUTGreen.png\" style=\"position: absolute; top: 371px; left: 374.5px; width: 5px; height: 6px; cursor: pointer; text-align: center; overflow: hidden; pointer-events: auto; visibility: visible;\"></div><div data-id=\"SAN MARINO\" class=\"map-marker\"><p data-id=\"SAN MARINO\" style=\"position: absolute; top: 642px; left: 543.165px; font-size: 5px; visibility: visible; z-index: 10;\">SAN MARINO</p><img data-id=\"SAN MARINO\" src=\"https://travelcheck-acc.utsp.utwente.nl/img/MarkerMap$Icons$IconUTYellowBorder.png\" style=\"position: absolute; top: 651px; left: 555.5px; width: 7px; height: 8px; cursor: pointer; text-align: center; overflow: hidden; pointer-events: auto; visibility: visible;\"></div><div data-id=\"TURIN\" class=\"map-marker\"><p data-id=\"TURIN\" style=\"position: absolute; top: 616px; left: 477.89px; font-size: 4px; visibility: hidden; z-index: 10;\">TURIN</p><img data-id=\"TURIN\" src=\"https://travelcheck-acc.utsp.utwente.nl/img/MarkerMap$Icons$IconUTYellow.png\" style=\"position: absolute; top: 623px; left: 481.5px; width: 5px; height: 6px; cursor: pointer; text-align: center; overflow: hidden; pointer-events: auto; visibility: visible;\"></div><div data-id=\"LANCASTER\" class=\"map-marker\"><p data-id=\"LANCASTER\" style=\"position: absolute; top: 387px; left: 342.997px; font-size: 4px; visibility: hidden; z-index: 10;\">LANCASTER</p><img data-id=\"LANCASTER\" src=\"https://travelcheck-acc.utsp.utwente.nl/img/MarkerMap$Icons$IconUTGreen.png\" style=\"position: absolute; top: 394px; left: 352.5px; width: 5px; height: 6px; cursor: pointer; text-align: center; overflow: hidden; pointer-events: auto; visibility: visible;\"></div><div data-id=\"NICE\" class=\"map-marker\"><p data-id=\"NICE\" style=\"position: absolute; top: 651px; left: 467.222px; font-size: 4px; visibility: hidden; z-index: 10;\">NICE</p><img data-id=\"NICE\" src=\"https://travelcheck-acc.utsp.utwente.nl/img/MarkerMap$Icons$IconUTYellow.png\" style=\"position: absolute; top: 658px; left: 469.5px; width: 5px; height: 6px; cursor: pointer; text-align: center; overflow: hidden; pointer-events: auto; visibility: visible;\"></div><div data-id=\"VÄXJÖ\" class=\"map-marker\"><p data-id=\"VÄXJÖ\" style=\"position: absolute; top: 350px; left: 585.442px; font-size: 4px; visibility: hidden; z-index: 10;\">VÄXJÖ</p><img data-id=\"VÄXJÖ\" src=\"https://travelcheck-acc.utsp.utwente.nl/img/MarkerMap$Icons$IconUTYellow.png\" style=\"position: absolute; top: 358px; left: 589.5px; width: 5px; height: 6px; cursor: pointer; text-align: center; overflow: hidden; pointer-events: auto; visibility: visible;\"></div><div data-id=\"LINKÖPING\" class=\"map-marker\"><p data-id=\"LINKÖPING\" style=\"position: absolute; top: 307px; left: 593.108px; font-size: 4px; visibility: hidden; z-index: 10;\">LINKÖPING</p><img data-id=\"LINKÖPING\" src=\"https://travelcheck-acc.utsp.utwente.nl/img/MarkerMap$Icons$IconUTYellow.png\" style=\"position: absolute; top: 315px; left: 601.5px; width: 5px; height: 6px; cursor: pointer; text-align: center; overflow: hidden; pointer-events: auto; visibility: visible;\"></div><div data-id=\"NANTES\" class=\"map-marker\"><p data-id=\"NANTES\" style=\"position: absolute; top: 542px; left: 338.888px; font-size: 4px; visibility: hidden; z-index: 10;\">NANTES</p><img data-id=\"NANTES\" src=\"https://travelcheck-acc.utsp.utwente.nl/img/MarkerMap$Icons$IconUTBlue.png\" style=\"position: absolute; top: 549px; left: 344.5px; width: 5px; height: 6px; cursor: pointer; text-align: center; overflow: hidden; pointer-events: auto; visibility: visible;\"></div><div data-id=\"TRENTO\" class=\"map-marker\"><p data-id=\"TRENTO\" style=\"position: absolute; top: 599px; left: 530.814px; font-size: 4px; visibility: hidden; z-index: 10;\">TRENTO</p><img data-id=\"TRENTO\" src=\"https://travelcheck-acc.utsp.utwente.nl/img/MarkerMap$Icons$IconUTGreen.png\" style=\"position: absolute; top: 606px; left: 536.5px; width: 5px; height: 6px; cursor: pointer; text-align: center; overflow: hidden; pointer-events: auto; visibility: visible;\"></div><div data-id=\"LYON\" class=\"map-marker\"><p data-id=\"LYON\" style=\"position: absolute; top: 603px; left: 437.702px; font-size: 4px; visibility: hidden; z-index: 10;\">LYON</p><img data-id=\"LYON\" src=\"https://travelcheck-acc.utsp.utwente.nl/img/MarkerMap$Icons$IconUTGreen.png\" style=\"position: absolute; top: 610px; left: 440.5px; width: 5px; height: 6px; cursor: pointer; text-align: center; overflow: hidden; pointer-events: auto; visibility: visible;\"></div><div data-id=\"WROCLAW\" class=\"map-marker\"><p data-id=\"WROCLAW\" style=\"position: absolute; top: 476px; left: 618.408px; font-size: 4px; visibility: hidden; z-index: 10;\">WROCLAW</p><img data-id=\"WROCLAW\" src=\"https://travelcheck-acc.utsp.utwente.nl/img/MarkerMap$Icons$IconUTGreen.png\" style=\"position: absolute; top: 483px; left: 626.5px; width: 5px; height: 6px; cursor: pointer; text-align: center; overflow: hidden; pointer-events: auto; visibility: visible;\"></div><div data-id=\"BRATISLAVA\" class=\"map-marker\"><p data-id=\"BRATISLAVA\" style=\"position: absolute; top: 540px; left: 618.134px; font-size: 5px; visibility: visible; z-index: 10;\">BRATISLAVA</p><img data-id=\"BRATISLAVA\" src=\"https://travelcheck-acc.utsp.utwente.nl/img/MarkerMap$Icons$IconUTYellowBorder.png\" style=\"position: absolute; top: 549px; left: 629.5px; width: 7px; height: 8px; cursor: pointer; text-align: center; overflow: hidden; pointer-events: auto; visibility: visible;\"></div><div data-id=\"BONN\" class=\"map-marker\"><p data-id=\"BONN\" style=\"position: absolute; top: 483px; left: 482.222px; font-size: 4px; visibility: hidden; z-index: 10;\">BONN</p><img data-id=\"BONN\" src=\"https://travelcheck-acc.utsp.utwente.nl/img/MarkerMap$Icons$IconUTBlue.png\" style=\"position: absolute; top: 490px; left: 485.5px; width: 5px; height: 6px; cursor: pointer; text-align: center; overflow: hidden; pointer-events: auto; visibility: visible;\"></div><div data-id=\"UMEA\" class=\"map-marker\"><p data-id=\"UMEA\" style=\"position: absolute; top: 178px; left: 641.222px; font-size: 4px; visibility: hidden; z-index: 10;\">UMEA</p><img data-id=\"UMEA\" src=\"https://travelcheck-acc.utsp.utwente.nl/img/MarkerMap$Icons$IconUTYellow.png\" style=\"position: absolute; top: 185px; left: 644.5px; width: 5px; height: 6px; cursor: pointer; text-align: center; overflow: hidden; pointer-events: auto; visibility: visible;\"></div><div data-id=\"ANTWERP\" class=\"map-marker\"><p data-id=\"ANTWERP\" style=\"position: absolute; top: 468px; left: 434px; font-size: 4px; visibility: hidden; z-index: 10;\">ANTWERP</p><img data-id=\"ANTWERP\" src=\"https://travelcheck-acc.utsp.utwente.nl/img/MarkerMap$Icons$IconUTBlue.png\" style=\"position: absolute; top: 475px; left: 441.5px; width: 5px; height: 6px; cursor: pointer; text-align: center; overflow: hidden; pointer-events: auto; visibility: visible;\"></div><div data-id=\"NAPLES\" class=\"map-marker\"><p data-id=\"NAPLES\" style=\"position: absolute; top: 717px; left: 584.107px; font-size: 4px; visibility: hidden; z-index: 10;\">NAPLES</p><img data-id=\"NAPLES\" src=\"https://travelcheck-acc.utsp.utwente.nl/img/MarkerMap$Icons$IconUTYellow.png\" style=\"position: absolute; top: 724px; left: 589.5px; width: 5px; height: 6px; cursor: pointer; text-align: center; overflow: hidden; pointer-events: auto; visibility: visible;\"></div><div data-id=\"LJUBLJANA\" class=\"map-marker\"><p data-id=\"LJUBLJANA\" style=\"position: absolute; top: 592px; left: 580.106px; font-size: 5px; visibility: visible; z-index: 10;\">LJUBLJANA</p><img data-id=\"LJUBLJANA\" src=\"https://travelcheck-acc.utsp.utwente.nl/img/MarkerMap$Icons$IconUTYellowBorder.png\" style=\"position: absolute; top: 601px; left: 590.5px; width: 7px; height: 8px; cursor: pointer; text-align: center; overflow: hidden; pointer-events: auto; visibility: visible;\"></div><div data-id=\"SOUTHAMPTON\" class=\"map-marker\"><p data-id=\"SOUTHAMPTON\" style=\"position: absolute; top: 464px; left: 343.48px; font-size: 4px; visibility: hidden; z-index: 10;\">SOUTHAMPTON</p><img data-id=\"SOUTHAMPTON\" src=\"https://travelcheck-acc.utsp.utwente.nl/img/MarkerMap$Icons$IconUTGreen.png\" style=\"position: absolute; top: 471px; left: 356.5px; width: 5px; height: 6px; cursor: pointer; text-align: center; overflow: hidden; pointer-events: auto; visibility: visible;\"></div><div data-id=\"BRAUNSCHWEIG\" class=\"map-marker\"><p data-id=\"BRAUNSCHWEIG\" style=\"position: absolute; top: 452px; left: 522.443px; font-size: 4px; visibility: hidden; z-index: 10;\">BRAUNSCHWEIG</p><img data-id=\"BRAUNSCHWEIG\" src=\"https://travelcheck-acc.utsp.utwente.nl/img/MarkerMap$Icons$IconUTBlue.png\" style=\"position: absolute; top: 459px; left: 536.5px; width: 5px; height: 6px; cursor: pointer; text-align: center; overflow: hidden; pointer-events: auto; visibility: visible;\"></div><div data-id=\"KOSICE\" class=\"map-marker\"><p data-id=\"KOSICE\" style=\"position: absolute; top: 530px; left: 687.442px; font-size: 4px; visibility: hidden; z-index: 10;\">KOSICE</p><img data-id=\"KOSICE\" src=\"https://travelcheck-acc.utsp.utwente.nl/img/MarkerMap$Icons$IconUTYellow.png\" style=\"position: absolute; top: 537px; left: 692.5px; width: 5px; height: 6px; cursor: pointer; text-align: center; overflow: hidden; pointer-events: auto; visibility: visible;\"></div><div data-id=\"MILAN\" class=\"map-marker\"><p data-id=\"MILAN\" style=\"position: absolute; top: 608px; left: 499.888px; font-size: 4px; visibility: hidden; z-index: 10;\">MILAN</p><img data-id=\"MILAN\" src=\"https://travelcheck-acc.utsp.utwente.nl/img/MarkerMap$Icons$IconUTYellow.png\" style=\"position: absolute; top: 615px; left: 503.5px; width: 5px; height: 6px; cursor: pointer; text-align: center; overflow: hidden; pointer-events: auto; visibility: visible;\"></div><div data-id=\"TOULOUSE\" class=\"map-marker\"><p data-id=\"TOULOUSE\" style=\"position: absolute; top: 643px; left: 361.034px; font-size: 4px; visibility: hidden; z-index: 10;\">TOULOUSE</p><img data-id=\"TOULOUSE\" src=\"https://travelcheck-acc.utsp.utwente.nl/img/MarkerMap$Icons$IconUTGreen.png\" style=\"position: absolute; top: 650px; left: 369.5px; width: 5px; height: 6px; cursor: pointer; text-align: center; overflow: hidden; pointer-events: auto; visibility: visible;\"></div><div data-id=\"LIVERPOOL\" class=\"map-marker\"><p data-id=\"LIVERPOOL\" style=\"position: absolute; top: 401px; left: 338.662px; font-size: 4px; visibility: hidden; z-index: 10;\">LIVERPOOL</p><img data-id=\"LIVERPOOL\" src=\"https://travelcheck-acc.utsp.utwente.nl/img/MarkerMap$Icons$IconUTGreen.png\" style=\"position: absolute; top: 408px; left: 347.5px; width: 5px; height: 6px; cursor: pointer; text-align: center; overflow: hidden; pointer-events: auto; visibility: visible;\"></div><div data-id=\"RENNES\" class=\"map-marker\"><p data-id=\"RENNES\" style=\"position: absolute; top: 522px; left: 338.665px; font-size: 4px; visibility: hidden; z-index: 10;\">RENNES</p><img data-id=\"RENNES\" src=\"https://travelcheck-acc.utsp.utwente.nl/img/MarkerMap$Icons$IconUTGreen.png\" style=\"position: absolute; top: 529px; left: 344.5px; width: 5px; height: 6px; cursor: pointer; text-align: center; overflow: hidden; pointer-events: auto; visibility: visible;\"></div><div data-id=\"PRAGUE\" class=\"map-marker\"><p data-id=\"PRAGUE\" style=\"position: absolute; top: 501px; left: 580.442px; font-size: 5px; visibility: visible; z-index: 10;\">PRAGUE</p><img data-id=\"PRAGUE\" src=\"https://travelcheck-acc.utsp.utwente.nl/img/MarkerMap$Icons$IconUTGreenBorder.png\" style=\"position: absolute; top: 510px; left: 587.5px; width: 7px; height: 8px; cursor: pointer; text-align: center; overflow: hidden; pointer-events: auto; visibility: visible;\"></div><div data-id=\"INNSBRUCK\" class=\"map-marker\"><p data-id=\"INNSBRUCK\" style=\"position: absolute; top: 566px; left: 532.221px; font-size: 4px; visibility: hidden; z-index: 10;\">INNSBRUCK</p><img data-id=\"INNSBRUCK\" src=\"https://travelcheck-acc.utsp.utwente.nl/img/MarkerMap$Icons$IconUTGreen.png\" style=\"position: absolute; top: 573px; left: 541.5px; width: 5px; height: 6px; cursor: pointer; text-align: center; overflow: hidden; pointer-events: auto; visibility: visible;\"></div><div data-id=\"PARIS\" class=\"map-marker\"><p data-id=\"PARIS\" style=\"position: absolute; top: 513px; left: 406.683px; font-size: 5px; visibility: visible; z-index: 10;\">PARIS</p><img data-id=\"PARIS\" src=\"https://travelcheck-acc.utsp.utwente.nl/img/MarkerMap$Icons$IconUTBlueBorder.png\" style=\"position: absolute; top: 522px; left: 410.5px; width: 7px; height: 8px; cursor: pointer; text-align: center; overflow: hidden; pointer-events: auto; visibility: visible;\"></div><div data-id=\"BIRMINGHAM\" class=\"map-marker\"><p data-id=\"BIRMINGHAM\" style=\"position: absolute; top: 429px; left: 350px; font-size: 4px; visibility: hidden; z-index: 10;\">BIRMINGHAM</p><img data-id=\"BIRMINGHAM\" src=\"https://travelcheck-acc.utsp.utwente.nl/img/MarkerMap$Icons$IconUTGreen.png\" style=\"position: absolute; top: 436px; left: 360.5px; width: 5px; height: 6px; cursor: pointer; text-align: center; overflow: hidden; pointer-events: auto; visibility: visible;\"></div><div data-id=\"WARSAW\" class=\"map-marker\"><p data-id=\"WARSAW\" style=\"position: absolute; top: 443px; left: 670.658px; font-size: 5px; visibility: visible; z-index: 10;\">WARSAW</p><img data-id=\"WARSAW\" src=\"https://travelcheck-acc.utsp.utwente.nl/img/MarkerMap$Icons$IconUTGreenBorder.png\" style=\"position: absolute; top: 452px; left: 678.5px; width: 7px; height: 8px; cursor: pointer; text-align: center; overflow: hidden; pointer-events: auto; visibility: visible;\"></div><div data-id=\"HEIDELBERG\" class=\"map-marker\"><p data-id=\"HEIDELBERG\" style=\"position: absolute; top: 516px; left: 488.107px; font-size: 4px; visibility: hidden; z-index: 10;\">HEIDELBERG</p><img data-id=\"HEIDELBERG\" src=\"https://travelcheck-acc.utsp.utwente.nl/img/MarkerMap$Icons$IconUTBlue.png\" style=\"position: absolute; top: 523px; left: 498.5px; width: 5px; height: 6px; cursor: pointer; text-align: center; overflow: hidden; pointer-events: auto; visibility: visible;\"></div><div data-id=\"AARHUS\" class=\"map-marker\"><p data-id=\"AARHUS\" style=\"position: absolute; top: 363px; left: 523.665px; font-size: 4px; visibility: hidden; z-index: 10;\">AARHUS</p><img data-id=\"AARHUS\" src=\"https://travelcheck-acc.utsp.utwente.nl/img/MarkerMap$Icons$IconUTGreen.png\" style=\"position: absolute; top: 370px; left: 529.5px; width: 5px; height: 6px; cursor: pointer; text-align: center; overflow: hidden; pointer-events: auto; visibility: visible;\"></div><div data-id=\"IASI\" class=\"map-marker\"><p data-id=\"IASI\" style=\"position: absolute; top: 553px; left: 798.221px; font-size: 4px; visibility: hidden; z-index: 10;\">IASI</p><img data-id=\"IASI\" src=\"https://travelcheck-acc.utsp.utwente.nl/img/MarkerMap$Icons$IconUTYellow.png\" style=\"position: absolute; top: 560px; left: 799.5px; width: 5px; height: 6px; cursor: pointer; text-align: center; overflow: hidden; pointer-events: auto; visibility: visible;\"></div><div data-id=\"VENICE\" class=\"map-marker\"><p data-id=\"VENICE\" style=\"position: absolute; top: 610px; left: 550.554px; font-size: 4px; visibility: hidden; z-index: 10;\">VENICE</p><img data-id=\"VENICE\" src=\"https://travelcheck-acc.utsp.utwente.nl/img/MarkerMap$Icons$IconUTYellow.png\" style=\"position: absolute; top: 617px; left: 555.5px; width: 5px; height: 6px; cursor: pointer; text-align: center; overflow: hidden; pointer-events: auto; visibility: visible;\"></div><div data-id=\"GUILDFORD\" class=\"map-marker\"><p data-id=\"GUILDFORD\" style=\"position: absolute; top: 462px; left: 361.222px; font-size: 4px; visibility: hidden; z-index: 10;\">GUILDFORD</p><img data-id=\"GUILDFORD\" src=\"https://travelcheck-acc.utsp.utwente.nl/img/MarkerMap$Icons$IconUTBlue.png\" style=\"position: absolute; top: 469px; left: 370.5px; width: 5px; height: 6px; cursor: pointer; text-align: center; overflow: hidden; pointer-events: auto; visibility: visible;\"></div><div data-id=\"BASEL\" class=\"map-marker\"><p data-id=\"BASEL\" style=\"position: absolute; top: 559px; left: 477.552px; font-size: 4px; visibility: hidden; z-index: 10;\">BASEL</p><img data-id=\"BASEL\" src=\"https://travelcheck-acc.utsp.utwente.nl/img/MarkerMap$Icons$IconUTBlue.png\" style=\"position: absolute; top: 566px; left: 481.5px; width: 5px; height: 6px; cursor: pointer; text-align: center; overflow: hidden; pointer-events: auto; visibility: visible;\"></div><div data-id=\"PAU\" class=\"map-marker\"><p data-id=\"PAU\" style=\"position: absolute; top: 640px; left: 345.036px; font-size: 4px; visibility: hidden; z-index: 10;\">PAU</p><img data-id=\"PAU\" src=\"https://travelcheck-acc.utsp.utwente.nl/img/MarkerMap$Icons$IconUTGreen.png\" style=\"position: absolute; top: 647px; left: 346.5px; width: 5px; height: 6px; cursor: pointer; text-align: center; overflow: hidden; pointer-events: auto; visibility: visible;\"></div><div data-id=\"LEIPZIG\" class=\"map-marker\"><p data-id=\"LEIPZIG\" style=\"position: absolute; top: 474px; left: 554.331px; font-size: 4px; visibility: hidden; z-index: 10;\">LEIPZIG</p><img data-id=\"LEIPZIG\" src=\"https://travelcheck-acc.utsp.utwente.nl/img/MarkerMap$Icons$IconUTBlue.png\" style=\"position: absolute; top: 481px; left: 559.5px; width: 5px; height: 6px; cursor: pointer; text-align: center; overflow: hidden; pointer-events: auto; visibility: visible;\"></div><div data-id=\"LONDON\" class=\"map-marker\"><p data-id=\"LONDON\" style=\"position: absolute; top: 453px; left: 368.304px; font-size: 5px; visibility: visible; z-index: 10;\">LONDON</p><img data-id=\"LONDON\" src=\"https://travelcheck-acc.utsp.utwente.nl/img/MarkerMap$Icons$IconUTBlueBorder.png\" style=\"position: absolute; top: 462px; left: 375.5px; width: 7px; height: 8px; cursor: pointer; text-align: center; overflow: hidden; pointer-events: auto; visibility: visible;\"></div><div data-id=\"LUXEMBOURG\" class=\"map-marker\"><p data-id=\"LUXEMBOURG\" style=\"position: absolute; top: 505px; left: 448.219px; font-size: 5px; visibility: visible; z-index: 10;\">LUXEMBOURG</p><img data-id=\"LUXEMBOURG\" src=\"https://travelcheck-acc.utsp.utwente.nl/img/MarkerMap$Icons$IconUTBlueBorder.png\" style=\"position: absolute; top: 514px; left: 462.5px; width: 7px; height: 8px; cursor: pointer; text-align: center; overflow: hidden; pointer-events: auto; visibility: visible;\"></div><div data-id=\"FRANKFURT\" class=\"map-marker\"><p data-id=\"FRANKFURT\" style=\"position: absolute; top: 498px; left: 493.926px; font-size: 4px; visibility: hidden; z-index: 10;\">FRANKFURT</p><img data-id=\"FRANKFURT\" src=\"https://travelcheck-acc.utsp.utwente.nl/img/MarkerMap$Icons$IconUTBlue.png\" style=\"position: absolute; top: 505px; left: 503.5px; width: 5px; height: 6px; cursor: pointer; text-align: center; overflow: hidden; pointer-events: auto; visibility: visible;\"></div><div data-id=\"BERN\" class=\"map-marker\"><p data-id=\"BERN\" style=\"position: absolute; top: 566px; left: 473.054px; font-size: 5px; visibility: visible; z-index: 10;\">BERN</p><img data-id=\"BERN\" src=\"https://travelcheck-acc.utsp.utwente.nl/img/MarkerMap$Icons$IconUTGreenBorder.png\" style=\"position: absolute; top: 575px; left: 476.5px; width: 7px; height: 8px; cursor: pointer; text-align: center; overflow: hidden; pointer-events: auto; visibility: visible;\"></div><div data-id=\"SHEFFIELD\" class=\"map-marker\"><p data-id=\"SHEFFIELD\" style=\"position: absolute; top: 407px; left: 358.998px; font-size: 4px; visibility: hidden; z-index: 10;\">SHEFFIELD</p><img data-id=\"SHEFFIELD\" src=\"https://travelcheck-acc.utsp.utwente.nl/img/MarkerMap$Icons$IconUTGreen.png\" style=\"position: absolute; top: 414px; left: 367.5px; width: 5px; height: 6px; cursor: pointer; text-align: center; overflow: hidden; pointer-events: auto; visibility: visible;\"></div><div data-id=\"CARDIFF\" class=\"map-marker\"><p data-id=\"CARDIFF\" style=\"position: absolute; top: 447px; left: 329.334px; font-size: 4px; visibility: hidden; z-index: 10;\">CARDIFF</p><img data-id=\"CARDIFF\" src=\"https://travelcheck-acc.utsp.utwente.nl/img/MarkerMap$Icons$IconUTGreen.png\" style=\"position: absolute; top: 454px; left: 335.5px; width: 5px; height: 6px; cursor: pointer; text-align: center; overflow: hidden; pointer-events: auto; visibility: visible;\"></div><div data-id=\"VADUZ\" class=\"map-marker\"><p data-id=\"VADUZ\" style=\"position: absolute; top: 566px; left: 504.713px; font-size: 5px; visibility: visible; z-index: 10;\">VADUZ</p><img data-id=\"VADUZ\" src=\"https://travelcheck-acc.utsp.utwente.nl/img/MarkerMap$Icons$IconUTGreenBorder.png\" style=\"position: absolute; top: 575px; left: 509.5px; width: 7px; height: 8px; cursor: pointer; text-align: center; overflow: hidden; pointer-events: auto; visibility: visible;\"></div><div data-id=\"DORTMUND\" class=\"map-marker\"><p data-id=\"DORTMUND\" style=\"position: absolute; top: 464px; left: 483.371px; font-size: 4px; visibility: hidden; z-index: 10;\">DORTMUND</p><img data-id=\"DORTMUND\" src=\"https://travelcheck-acc.utsp.utwente.nl/img/MarkerMap$Icons$IconUTBlue.png\" style=\"position: absolute; top: 471px; left: 492.5px; width: 5px; height: 6px; cursor: pointer; text-align: center; overflow: hidden; pointer-events: auto; visibility: visible;\"></div><div data-id=\"BRUSSELS\" class=\"map-marker\"><p data-id=\"BRUSSELS\" style=\"position: absolute; top: 477px; left: 429.661px; font-size: 5px; visibility: visible; z-index: 10;\">BRUSSELS</p><img data-id=\"BRUSSELS\" src=\"https://travelcheck-acc.utsp.utwente.nl/img/MarkerMap$Icons$IconUTBlueBorder.png\" style=\"position: absolute; top: 486px; left: 439.5px; width: 7px; height: 8px; cursor: pointer; text-align: center; overflow: hidden; pointer-events: auto; visibility: visible;\"></div><div data-id=\"BUCHAREST\" class=\"map-marker\"><p data-id=\"BUCHAREST\" style=\"position: absolute; top: 617px; left: 768.581px; font-size: 5px; visibility: visible; z-index: 10;\">BUCHAREST</p><img data-id=\"BUCHAREST\" src=\"https://travelcheck-acc.utsp.utwente.nl/img/MarkerMap$Icons$IconUTYellowBorder.png\" style=\"position: absolute; top: 626px; left: 780.5px; width: 7px; height: 8px; cursor: pointer; text-align: center; overflow: hidden; pointer-events: auto; visibility: visible;\"></div><div data-id=\"BOLOGNA\" class=\"map-marker\"><p data-id=\"BOLOGNA\" style=\"position: absolute; top: 630px; left: 534.108px; font-size: 4px; visibility: hidden; z-index: 10;\">BOLOGNA</p><img data-id=\"BOLOGNA\" src=\"https://travelcheck-acc.utsp.utwente.nl/img/MarkerMap$Icons$IconUTYellow.png\" style=\"position: absolute; top: 637px; left: 541.5px; width: 5px; height: 6px; cursor: pointer; text-align: center; overflow: hidden; pointer-events: auto; visibility: visible;\"></div><div data-id=\"BRNO\" class=\"map-marker\"><p data-id=\"BRNO\" style=\"position: absolute; top: 525px; left: 617.222px; font-size: 4px; visibility: hidden; z-index: 10;\">BRNO</p><img data-id=\"BRNO\" src=\"https://travelcheck-acc.utsp.utwente.nl/img/MarkerMap$Icons$IconUTYellow.png\" style=\"position: absolute; top: 532px; left: 620.5px; width: 5px; height: 6px; cursor: pointer; text-align: center; overflow: hidden; pointer-events: auto; visibility: visible;\"></div><div data-id=\"STAVANGER\" class=\"map-marker\"><p data-id=\"STAVANGER\" style=\"position: absolute; top: 291px; left: 468.109px; font-size: 4px; visibility: hidden; z-index: 10;\">STAVANGER</p><img data-id=\"STAVANGER\" src=\"https://travelcheck-acc.utsp.utwente.nl/img/MarkerMap$Icons$IconUTYellow.png\" style=\"position: absolute; top: 298px; left: 477.5px; width: 5px; height: 6px; cursor: pointer; text-align: center; overflow: hidden; pointer-events: auto; visibility: visible;\"></div><div data-id=\"SOPRON\" class=\"map-marker\"><p data-id=\"SOPRON\" style=\"position: absolute; top: 557px; left: 616.332px; font-size: 4px; visibility: hidden; z-index: 10;\">SOPRON</p><img data-id=\"SOPRON\" src=\"https://travelcheck-acc.utsp.utwente.nl/img/MarkerMap$Icons$IconUTYellow.png\" style=\"position: absolute; top: 564px; left: 622.5px; width: 5px; height: 6px; cursor: pointer; text-align: center; overflow: hidden; pointer-events: auto; visibility: visible;\"></div><div data-id=\"PISA\" class=\"map-marker\"><p data-id=\"PISA\" style=\"position: absolute; top: 651px; left: 520.442px; font-size: 4px; visibility: hidden; z-index: 10;\">PISA</p><img data-id=\"PISA\" src=\"https://travelcheck-acc.utsp.utwente.nl/img/MarkerMap$Icons$IconUTYellow.png\" style=\"position: absolute; top: 658px; left: 522.5px; width: 5px; height: 6px; cursor: pointer; text-align: center; overflow: hidden; pointer-events: auto; visibility: visible;\"></div><div data-id=\"MONTPELLIER\" class=\"map-marker\"><p data-id=\"MONTPELLIER\" style=\"position: absolute; top: 645px; left: 402.886px; font-size: 4px; visibility: hidden; z-index: 10;\">MONTPELLIER</p><img data-id=\"MONTPELLIER\" src=\"https://travelcheck-acc.utsp.utwente.nl/img/MarkerMap$Icons$IconUTGreen.png\" style=\"position: absolute; top: 652px; left: 414.5px; width: 5px; height: 6px; cursor: pointer; text-align: center; overflow: hidden; pointer-events: auto; visibility: visible;\"></div><div data-id=\"LEUVEN\" class=\"map-marker\"><p data-id=\"LEUVEN\" style=\"position: absolute; top: 477px; left: 442.997px; font-size: 4px; visibility: hidden; z-index: 10;\">LEUVEN</p><img data-id=\"LEUVEN\" src=\"https://travelcheck-acc.utsp.utwente.nl/img/MarkerMap$Icons$IconUTBlue.png\" style=\"position: absolute; top: 484px; left: 448.5px; width: 5px; height: 6px; cursor: pointer; text-align: center; overflow: hidden; pointer-events: auto; visibility: visible;\"></div><div data-id=\"CATANIA\" class=\"map-marker\"><p data-id=\"CATANIA\" style=\"position: absolute; top: 795px; left: 600.629px; font-size: 4px; visibility: hidden; z-index: 10;\">CATANIA</p><img data-id=\"CATANIA\" src=\"https://travelcheck-acc.utsp.utwente.nl/img/MarkerMap$Icons$IconUTYellow.png\" style=\"position: absolute; top: 802px; left: 606.5px; width: 5px; height: 6px; cursor: pointer; text-align: center; overflow: hidden; pointer-events: auto; visibility: visible;\"></div><div data-id=\"LULEA\" class=\"map-marker\"><p data-id=\"LULEA\" style=\"position: absolute; top: 139px; left: 651.663px; font-size: 4px; visibility: hidden; z-index: 10;\">LULEA</p><img data-id=\"LULEA\" src=\"https://travelcheck-acc.utsp.utwente.nl/img/MarkerMap$Icons$IconUTYellow.png\" style=\"position: absolute; top: 146px; left: 655.5px; width: 5px; height: 6px; cursor: pointer; text-align: center; overflow: hidden; pointer-events: auto; visibility: visible;\"></div><div data-id=\"BERGEN\" class=\"map-marker\"><p data-id=\"BERGEN\" style=\"position: absolute; top: 258px; left: 470.554px; font-size: 4px; visibility: hidden; z-index: 10;\">BERGEN</p><img data-id=\"BERGEN\" src=\"https://travelcheck-acc.utsp.utwente.nl/img/MarkerMap$Icons$IconUTYellow.png\" style=\"position: absolute; top: 265px; left: 476.5px; width: 5px; height: 6px; cursor: pointer; text-align: center; overflow: hidden; pointer-events: auto; visibility: visible;\"></div><div data-id=\"LÜNEBURG\" class=\"map-marker\"><p data-id=\"LÜNEBURG\" style=\"position: absolute; top: 425px; left: 520.887px; font-size: 4px; visibility: hidden; z-index: 10;\">LÜNEBURG</p><img data-id=\"LÜNEBURG\" src=\"https://travelcheck-acc.utsp.utwente.nl/img/MarkerMap$Icons$IconUTBlue.png\" style=\"position: absolute; top: 433px; left: 529.5px; width: 5px; height: 6px; cursor: pointer; text-align: center; overflow: hidden; pointer-events: auto; visibility: visible;\"></div><div data-id=\"GÖTEBORG\" class=\"map-marker\"><p data-id=\"GÖTEBORG\" style=\"position: absolute; top: 325px; left: 543.443px; font-size: 4px; visibility: hidden; z-index: 10;\">GÖTEBORG</p><img data-id=\"GÖTEBORG\" src=\"https://travelcheck-acc.utsp.utwente.nl/img/MarkerMap$Icons$IconUTYellow.png\" style=\"position: absolute; top: 333px; left: 552.5px; width: 5px; height: 6px; cursor: pointer; text-align: center; overflow: hidden; pointer-events: auto; visibility: visible;\"></div><div data-id=\"MUNICH\" class=\"map-marker\"><p data-id=\"MUNICH\" style=\"position: absolute; top: 551px; left: 542.001px; font-size: 4px; visibility: hidden; z-index: 10;\">MUNICH</p><img data-id=\"MUNICH\" src=\"https://travelcheck-acc.utsp.utwente.nl/img/MarkerMap$Icons$IconUTBlue.png\" style=\"position: absolute; top: 558px; left: 547.5px; width: 5px; height: 6px; cursor: pointer; text-align: center; overflow: hidden; pointer-events: auto; visibility: visible;\"></div><div data-id=\"MIDDLESBROUGH\" class=\"map-marker\"><p data-id=\"MIDDLESBROUGH\" style=\"position: absolute; top: 380px; left: 363.331px; font-size: 4px; visibility: hidden; z-index: 10;\">MIDDLESBROUGH</p><img data-id=\"MIDDLESBROUGH\" src=\"https://travelcheck-acc.utsp.utwente.nl/img/MarkerMap$Icons$IconUTGreen.png\" style=\"position: absolute; top: 387px; left: 378.5px; width: 5px; height: 6px; cursor: pointer; text-align: center; overflow: hidden; pointer-events: auto; visibility: visible;\"></div><div data-id=\"MARSEILLE\" class=\"map-marker\"><p data-id=\"MARSEILLE\" style=\"position: absolute; top: 655px; left: 429.773px; font-size: 4px; visibility: hidden; z-index: 10;\">MARSEILLE</p><img data-id=\"MARSEILLE\" src=\"https://travelcheck-acc.utsp.utwente.nl/img/MarkerMap$Icons$IconUTGreen.png\" style=\"position: absolute; top: 662px; left: 438.5px; width: 5px; height: 6px; cursor: pointer; text-align: center; overflow: hidden; pointer-events: auto; visibility: visible;\"></div><div data-id=\"ANGERS\" class=\"map-marker\"><p data-id=\"ANGERS\" style=\"position: absolute; top: 539px; left: 355.554px; font-size: 4px; visibility: hidden; z-index: 10;\">ANGERS</p><img data-id=\"ANGERS\" src=\"https://travelcheck-acc.utsp.utwente.nl/img/MarkerMap$Icons$IconUTBlue.png\" style=\"position: absolute; top: 546px; left: 361.5px; width: 5px; height: 6px; cursor: pointer; text-align: center; overflow: hidden; pointer-events: auto; visibility: visible;\"></div><div data-id=\"GHENT\" class=\"map-marker\"><p data-id=\"GHENT\" style=\"position: absolute; top: 469px; left: 428px; font-size: 4px; visibility: hidden; z-index: 10;\">GHENT</p><img data-id=\"GHENT\" src=\"https://travelcheck-acc.utsp.utwente.nl/img/MarkerMap$Icons$IconUTBlue.png\" style=\"position: absolute; top: 476px; left: 432.5px; width: 5px; height: 6px; cursor: pointer; text-align: center; overflow: hidden; pointer-events: auto; visibility: visible;\"></div><div data-id=\"TAMPERE\" class=\"map-marker\"><p data-id=\"TAMPERE\" style=\"position: absolute; top: 224px; left: 676.48px; font-size: 4px; visibility: hidden; z-index: 10;\">TAMPERE</p><img data-id=\"TAMPERE\" src=\"https://travelcheck-acc.utsp.utwente.nl/img/MarkerMap$Icons$IconUTYellow.png\" style=\"position: absolute; top: 231px; left: 683.5px; width: 5px; height: 6px; cursor: pointer; text-align: center; overflow: hidden; pointer-events: auto; visibility: visible;\"></div><div data-id=\"PALERMO\" class=\"map-marker\"><p data-id=\"PALERMO\" style=\"position: absolute; top: 779px; left: 566.368px; font-size: 4px; visibility: hidden; z-index: 10;\">PALERMO</p><img data-id=\"PALERMO\" src=\"https://travelcheck-acc.utsp.utwente.nl/img/MarkerMap$Icons$IconUTYellow.png\" style=\"position: absolute; top: 786px; left: 573.5px; width: 5px; height: 6px; cursor: pointer; text-align: center; overflow: hidden; pointer-events: auto; visibility: visible;\"></div><div data-id=\"KARLSRUHE\" class=\"map-marker\"><p data-id=\"KARLSRUHE\" style=\"position: absolute; top: 525px; left: 487.774px; font-size: 4px; visibility: hidden; z-index: 10;\">KARLSRUHE</p><img data-id=\"KARLSRUHE\" src=\"https://travelcheck-acc.utsp.utwente.nl/img/MarkerMap$Icons$IconUTBlue.png\" style=\"position: absolute; top: 532px; left: 497.5px; width: 5px; height: 6px; cursor: pointer; text-align: center; overflow: hidden; pointer-events: auto; visibility: visible;\"></div><div data-id=\"ABERDEEN\" class=\"map-marker\"><p data-id=\"ABERDEEN\" style=\"position: absolute; top: 316px; left: 371.997px; font-size: 4px; visibility: hidden; z-index: 10;\">ABERDEEN</p><img data-id=\"ABERDEEN\" src=\"https://travelcheck-acc.utsp.utwente.nl/img/MarkerMap$Icons$IconUTGreen.png\" style=\"position: absolute; top: 323px; left: 380.5px; width: 5px; height: 6px; cursor: pointer; text-align: center; overflow: hidden; pointer-events: auto; visibility: visible;\"></div><div data-id=\"MONACO\" class=\"map-marker\"><p data-id=\"MONACO\" style=\"position: absolute; top: 644px; left: 464.75px; font-size: 5px; visibility: visible; z-index: 10;\">MONACO</p><img data-id=\"MONACO\" src=\"https://travelcheck-acc.utsp.utwente.nl/img/MarkerMap$Icons$IconUTYellowBorder.png\" style=\"position: absolute; top: 653px; left: 472.5px; width: 7px; height: 8px; cursor: pointer; text-align: center; overflow: hidden; pointer-events: auto; visibility: visible;\"></div><div data-id=\"COLOGNE\" class=\"map-marker\"><p data-id=\"COLOGNE\" style=\"position: absolute; top: 479px; left: 471.998px; font-size: 4px; visibility: hidden; z-index: 10;\">COLOGNE</p><img data-id=\"COLOGNE\" src=\"https://travelcheck-acc.utsp.utwente.nl/img/MarkerMap$Icons$IconUTBlue.png\" style=\"position: absolute; top: 486px; left: 479.5px; width: 5px; height: 6px; cursor: pointer; text-align: center; overflow: hidden; pointer-events: auto; visibility: visible;\"></div><div data-id=\"LAUSANNE\" class=\"map-marker\"><p data-id=\"LAUSANNE\" style=\"position: absolute; top: 584px; left: 457.219px; font-size: 4px; visibility: hidden; z-index: 10;\">LAUSANNE</p><img data-id=\"LAUSANNE\" src=\"https://travelcheck-acc.utsp.utwente.nl/img/MarkerMap$Icons$IconUTGreen.png\" style=\"position: absolute; top: 591px; left: 465.5px; width: 5px; height: 6px; cursor: pointer; text-align: center; overflow: hidden; pointer-events: auto; visibility: visible;\"></div><div data-id=\"GENEVA\" class=\"map-marker\"><p data-id=\"GENEVA\" style=\"position: absolute; top: 588px; left: 450.812px; font-size: 4px; visibility: hidden; z-index: 10;\">GENEVA</p><img data-id=\"GENEVA\" src=\"https://travelcheck-acc.utsp.utwente.nl/img/MarkerMap$Icons$IconUTGreen.png\" style=\"position: absolute; top: 595px; left: 456.5px; width: 5px; height: 6px; cursor: pointer; text-align: center; overflow: hidden; pointer-events: auto; visibility: visible;\"></div><div data-id=\"CHARLEROI\" class=\"map-marker\"><p data-id=\"CHARLEROI\" style=\"position: absolute; top: 487px; left: 431.331px; font-size: 4px; visibility: hidden; z-index: 10;\">CHARLEROI</p><img data-id=\"CHARLEROI\" src=\"https://travelcheck-acc.utsp.utwente.nl/img/MarkerMap$Icons$IconUTBlue.png\" style=\"position: absolute; top: 494px; left: 440.5px; width: 5px; height: 6px; cursor: pointer; text-align: center; overflow: hidden; pointer-events: auto; visibility: visible;\"></div><div data-id=\"SOUTHEND\" class=\"map-marker\"><p data-id=\"SOUTHEND\" style=\"position: absolute; top: 455px; left: 379.777px; font-size: 4px; visibility: hidden; z-index: 10;\">SOUTHEND</p><img data-id=\"SOUTHEND\" src=\"https://travelcheck-acc.utsp.utwente.nl/img/MarkerMap$Icons$IconUTGreen.png\" style=\"position: absolute; top: 462px; left: 388.5px; width: 5px; height: 6px; cursor: pointer; text-align: center; overflow: hidden; pointer-events: auto; visibility: visible;\"></div><div data-id=\"SALZBURG\" class=\"map-marker\"><p data-id=\"SALZBURG\" style=\"position: absolute; top: 556px; left: 556.22px; font-size: 4px; visibility: hidden; z-index: 10;\">SALZBURG</p><img data-id=\"SALZBURG\" src=\"https://travelcheck-acc.utsp.utwente.nl/img/MarkerMap$Icons$IconUTGreen.png\" style=\"position: absolute; top: 563px; left: 564.5px; width: 5px; height: 6px; cursor: pointer; text-align: center; overflow: hidden; pointer-events: auto; visibility: visible;\"></div><div data-id=\"OSLO\" class=\"map-marker\"><p data-id=\"OSLO\" style=\"position: absolute; top: 269px; left: 534.053px; font-size: 5px; visibility: visible; z-index: 10;\">OSLO</p><img data-id=\"OSLO\" src=\"https://travelcheck-acc.utsp.utwente.nl/img/MarkerMap$Icons$IconUTYellowBorder.png\" style=\"position: absolute; top: 278px; left: 537.5px; width: 7px; height: 8px; cursor: pointer; text-align: center; overflow: hidden; pointer-events: auto; visibility: visible;\"></div><div data-id=\"KRAKOW\" class=\"map-marker\"><p data-id=\"KRAKOW\" style=\"position: absolute; top: 505px; left: 665.11px; font-size: 4px; visibility: hidden; z-index: 10;\">KRAKOW</p><img data-id=\"KRAKOW\" src=\"https://travelcheck-acc.utsp.utwente.nl/img/MarkerMap$Icons$IconUTYellow.png\" style=\"position: absolute; top: 512px; left: 671.5px; width: 5px; height: 6px; cursor: pointer; text-align: center; overflow: hidden; pointer-events: auto; visibility: visible;\"></div><div data-id=\"POZNAN\" class=\"map-marker\"><p data-id=\"POZNAN\" style=\"position: absolute; top: 446px; left: 609.666px; font-size: 4px; visibility: hidden; z-index: 10;\">POZNAN</p><img data-id=\"POZNAN\" src=\"https://travelcheck-acc.utsp.utwente.nl/img/MarkerMap$Icons$IconUTBlue.png\" style=\"position: absolute; top: 453px; left: 615.5px; width: 5px; height: 6px; cursor: pointer; text-align: center; overflow: hidden; pointer-events: auto; visibility: visible;\"></div><div data-id=\"BERLIN\" class=\"map-marker\"><p data-id=\"BERLIN\" style=\"position: absolute; top: 443px; left: 566.969px; font-size: 5px; visibility: visible; z-index: 10;\">BERLIN</p><img data-id=\"BERLIN\" src=\"https://travelcheck-acc.utsp.utwente.nl/img/MarkerMap$Icons$IconUTBlueBorder.png\" style=\"position: absolute; top: 452px; left: 572.5px; width: 7px; height: 8px; cursor: pointer; text-align: center; overflow: hidden; pointer-events: auto; visibility: visible;\"></div><div data-id=\"EDINBURGH\" class=\"map-marker\"><p data-id=\"EDINBURGH\" style=\"position: absolute; top: 343px; left: 349.999px; font-size: 4px; visibility: hidden; z-index: 10;\">EDINBURGH</p><img data-id=\"EDINBURGH\" src=\"https://travelcheck-acc.utsp.utwente.nl/img/MarkerMap$Icons$IconUTGreen.png\" style=\"position: absolute; top: 350px; left: 359.5px; width: 5px; height: 6px; cursor: pointer; text-align: center; overflow: hidden; pointer-events: auto; visibility: visible;\"></div><div data-id=\"VASTERAS\" class=\"map-marker\"><p data-id=\"VASTERAS\" style=\"position: absolute; top: 282px; left: 600.479px; font-size: 4px; visibility: hidden; z-index: 10;\">VASTERAS</p><img data-id=\"VASTERAS\" src=\"https://travelcheck-acc.utsp.utwente.nl/img/MarkerMap$Icons$IconUTYellow.png\" style=\"position: absolute; top: 289px; left: 608.5px; width: 5px; height: 6px; cursor: pointer; text-align: center; overflow: hidden; pointer-events: auto; visibility: visible;\"></div><div data-id=\"EXETER\" class=\"map-marker\"><p data-id=\"EXETER\" style=\"position: absolute; top: 463px; left: 319.998px; font-size: 4px; visibility: hidden; z-index: 10;\">EXETER</p><img data-id=\"EXETER\" src=\"https://travelcheck-acc.utsp.utwente.nl/img/MarkerMap$Icons$IconUTGreen.png\" style=\"position: absolute; top: 470px; left: 325.5px; width: 5px; height: 6px; cursor: pointer; text-align: center; overflow: hidden; pointer-events: auto; visibility: visible;\"></div><div data-id=\"ROME\" class=\"map-marker\"><p data-id=\"ROME\" style=\"position: absolute; top: 690px; left: 550.5px; font-size: 5px; visibility: visible; z-index: 10;\">ROME</p><img data-id=\"ROME\" src=\"https://travelcheck-acc.utsp.utwente.nl/img/MarkerMap$Icons$IconUTYellowBorder.png\" style=\"position: absolute; top: 699px; left: 554.5px; width: 7px; height: 8px; cursor: pointer; text-align: center; overflow: hidden; pointer-events: auto; visibility: visible;\"></div><div data-id=\"SPLIT\" class=\"map-marker\"><p data-id=\"SPLIT\" style=\"position: absolute; top: 654px; left: 621.442px; font-size: 4px; visibility: hidden; z-index: 10;\">SPLIT</p><img data-id=\"SPLIT\" src=\"https://travelcheck-acc.utsp.utwente.nl/img/MarkerMap$Icons$IconUTYellow.png\" style=\"position: absolute; top: 661px; left: 624.5px; width: 5px; height: 6px; cursor: pointer; text-align: center; overflow: hidden; pointer-events: auto; visibility: visible;\"></div><div data-id=\"BARI\" class=\"map-marker\"><p data-id=\"BARI\" style=\"position: absolute; top: 709px; left: 631.332px; font-size: 4px; visibility: hidden; z-index: 10;\">BARI</p><img data-id=\"BARI\" src=\"https://travelcheck-acc.utsp.utwente.nl/img/MarkerMap$Icons$IconUTYellow.png\" style=\"position: absolute; top: 716px; left: 633.5px; width: 5px; height: 6px; cursor: pointer; text-align: center; overflow: hidden; pointer-events: auto; visibility: visible;\"></div><div data-id=\"COPENHAGEN\" class=\"map-marker\"><p data-id=\"COPENHAGEN\" style=\"position: absolute; top: 371px; left: 546.219px; font-size: 5px; visibility: visible; z-index: 10;\">COPENHAGEN</p><img data-id=\"COPENHAGEN\" src=\"https://travelcheck-acc.utsp.utwente.nl/img/MarkerMap$Icons$IconUTBlueBorder.png\" style=\"position: absolute; top: 380px; left: 560.5px; width: 7px; height: 8px; cursor: pointer; text-align: center; overflow: hidden; pointer-events: auto; visibility: visible;\"></div><div data-id=\"GENOVA\" class=\"map-marker\"><p data-id=\"GENOVA\" style=\"position: absolute; top: 634px; left: 493.591px; font-size: 4px; visibility: hidden; z-index: 10;\">GENOVA</p><img data-id=\"GENOVA\" src=\"https://travelcheck-acc.utsp.utwente.nl/img/MarkerMap$Icons$IconUTYellow.png\" style=\"position: absolute; top: 641px; left: 499.5px; width: 5px; height: 6px; cursor: pointer; text-align: center; overflow: hidden; pointer-events: auto; visibility: visible;\"></div><div data-id=\"VIENNA\" class=\"map-marker\"><p data-id=\"VIENNA\" style=\"position: absolute; top: 542px; left: 613.692px; font-size: 5px; visibility: visible; z-index: 10;\">VIENNA</p><img data-id=\"VIENNA\" src=\"https://travelcheck-acc.utsp.utwente.nl/img/MarkerMap$Icons$IconUTGreenBorder.png\" style=\"position: absolute; top: 551px; left: 619.5px; width: 7px; height: 8px; cursor: pointer; text-align: center; overflow: hidden; pointer-events: auto; visibility: visible;\"></div><div data-id=\"GDANSK\" class=\"map-marker\"><p data-id=\"GDANSK\" style=\"position: absolute; top: 399px; left: 635.554px; font-size: 4px; visibility: hidden; z-index: 10;\">GDANSK</p><img data-id=\"GDANSK\" src=\"https://travelcheck-acc.utsp.utwente.nl/img/MarkerMap$Icons$IconUTGreen.png\" style=\"position: absolute; top: 406px; left: 641.5px; width: 5px; height: 6px; cursor: pointer; text-align: center; overflow: hidden; pointer-events: auto; visibility: visible;\"></div><div data-id=\"KRISTIANSAND\" class=\"map-marker\"><p data-id=\"KRISTIANSAND\" style=\"position: absolute; top: 313px; left: 492.22px; font-size: 4px; visibility: hidden; z-index: 10;\">KRISTIANSAND</p><img data-id=\"KRISTIANSAND\" src=\"https://travelcheck-acc.utsp.utwente.nl/img/MarkerMap$Icons$IconUTYellow.png\" style=\"position: absolute; top: 320px; left: 504.5px; width: 5px; height: 6px; cursor: pointer; text-align: center; overflow: hidden; pointer-events: auto; visibility: visible;\"></div><div data-id=\"HANNOVER\" class=\"map-marker\"><p data-id=\"HANNOVER\" style=\"position: absolute; top: 444px; left: 505.665px; font-size: 4px; visibility: hidden; z-index: 10;\">HANNOVER</p><img data-id=\"HANNOVER\" src=\"https://travelcheck-acc.utsp.utwente.nl/img/MarkerMap$Icons$IconUTBlue.png\" style=\"position: absolute; top: 451px; left: 514.5px; width: 5px; height: 6px; cursor: pointer; text-align: center; overflow: hidden; pointer-events: auto; visibility: visible;\"></div><div data-id=\"BRUGES\" class=\"map-marker\"><p data-id=\"BRUGES\" style=\"position: absolute; top: 468px; left: 419.554px; font-size: 4px; visibility: hidden; z-index: 10;\">BRUGES</p><img data-id=\"BRUGES\" src=\"https://travelcheck-acc.utsp.utwente.nl/img/MarkerMap$Icons$IconUTBlue.png\" style=\"position: absolute; top: 475px; left: 425.5px; width: 5px; height: 6px; cursor: pointer; text-align: center; overflow: hidden; pointer-events: auto; visibility: visible;\"></div><div data-id=\"ROSKILDE\" class=\"map-marker\"><p data-id=\"ROSKILDE\" style=\"position: absolute; top: 374px; left: 545.886px; font-size: 4px; visibility: hidden; z-index: 10;\">ROSKILDE</p><img data-id=\"ROSKILDE\" src=\"https://travelcheck-acc.utsp.utwente.nl/img/MarkerMap$Icons$IconUTGreen.png\" style=\"position: absolute; top: 381px; left: 553.5px; width: 5px; height: 6px; cursor: pointer; text-align: center; overflow: hidden; pointer-events: auto; visibility: visible;\"></div><div data-id=\"GRAZ\" class=\"map-marker\"><p data-id=\"GRAZ\" style=\"position: absolute; top: 573px; left: 610.444px; font-size: 4px; visibility: hidden; z-index: 10;\">GRAZ</p><img data-id=\"GRAZ\" src=\"https://travelcheck-acc.utsp.utwente.nl/img/MarkerMap$Icons$IconUTYellow.png\" style=\"position: absolute; top: 580px; left: 613.5px; width: 5px; height: 6px; cursor: pointer; text-align: center; overflow: hidden; pointer-events: auto; visibility: visible;\"></div><div data-id=\"GLASGOW\" class=\"map-marker\"><p data-id=\"GLASGOW\" style=\"position: absolute; top: 347px; left: 335.665px; font-size: 4px; visibility: hidden; z-index: 10;\">GLASGOW</p><img data-id=\"GLASGOW\" src=\"https://travelcheck-acc.utsp.utwente.nl/img/MarkerMap$Icons$IconUTGreen.png\" style=\"position: absolute; top: 354px; left: 343.5px; width: 5px; height: 6px; cursor: pointer; text-align: center; overflow: hidden; pointer-events: auto; visibility: visible;\"></div><div data-id=\"STUTTGART\" class=\"map-marker\"><p data-id=\"STUTTGART\" style=\"position: absolute; top: 530px; left: 491.037px; font-size: 4px; visibility: hidden; z-index: 10;\">STUTTGART</p><img data-id=\"STUTTGART\" src=\"https://travelcheck-acc.utsp.utwente.nl/img/MarkerMap$Icons$IconUTBlue.png\" style=\"position: absolute; top: 537px; left: 500.5px; width: 5px; height: 6px; cursor: pointer; text-align: center; overflow: hidden; pointer-events: auto; visibility: visible;\"></div><div data-id=\"ZAGREB\" class=\"map-marker\"><p data-id=\"ZAGREB\" style=\"position: absolute; top: 597px; left: 605.72px; font-size: 5px; visibility: visible; z-index: 10;\">ZAGREB</p><img data-id=\"ZAGREB\" src=\"https://travelcheck-acc.utsp.utwente.nl/img/MarkerMap$Icons$IconUTBlueBorder.png\" style=\"position: absolute; top: 606px; left: 612.5px; width: 7px; height: 8px; cursor: pointer; text-align: center; overflow: hidden; pointer-events: auto; visibility: visible;\"></div><div data-id=\"MÜNSTER\" class=\"map-marker\"><p data-id=\"MÜNSTER\" style=\"position: absolute; top: 454px; left: 483.111px; font-size: 4px; visibility: hidden; z-index: 10;\">MÜNSTER</p><img data-id=\"MÜNSTER\" src=\"https://travelcheck-acc.utsp.utwente.nl/img/MarkerMap$Icons$IconUTBlue.png\" style=\"position: absolute; top: 462px; left: 490.5px; width: 5px; height: 6px; cursor: pointer; text-align: center; overflow: hidden; pointer-events: auto; visibility: visible;\"></div><div data-id=\"DARMSTADT\" class=\"map-marker\"><p data-id=\"DARMSTADT\" style=\"position: absolute; top: 505px; left: 488.704px; font-size: 4px; visibility: hidden; z-index: 10;\">DARMSTADT</p><img data-id=\"DARMSTADT\" src=\"https://travelcheck-acc.utsp.utwente.nl/img/MarkerMap$Icons$IconUTBlue.png\" style=\"position: absolute; top: 512px; left: 498.5px; width: 5px; height: 6px; cursor: pointer; text-align: center; overflow: hidden; pointer-events: auto; visibility: visible;\"></div><div data-id=\"AACHEN\" class=\"map-marker\"><p data-id=\"AACHEN\" style=\"position: absolute; top: 482px; left: 460.665px; font-size: 4px; visibility: hidden; z-index: 10;\">AACHEN</p><img data-id=\"AACHEN\" src=\"https://travelcheck-acc.utsp.utwente.nl/img/MarkerMap$Icons$IconUTBlue.png\" style=\"position: absolute; top: 489px; left: 466.5px; width: 5px; height: 6px; cursor: pointer; text-align: center; overflow: hidden; pointer-events: auto; visibility: visible;\"></div><div data-id=\"LODZ\" class=\"map-marker\"><p data-id=\"LODZ\" style=\"position: absolute; top: 465px; left: 661.666px; font-size: 4px; visibility: hidden; z-index: 10;\">LODZ</p><img data-id=\"LODZ\" src=\"https://travelcheck-acc.utsp.utwente.nl/img/MarkerMap$Icons$IconUTGreen.png\" style=\"position: absolute; top: 472px; left: 664.5px; width: 5px; height: 6px; cursor: pointer; text-align: center; overflow: hidden; pointer-events: auto; visibility: visible;\"></div><div data-id=\"TOULON\" class=\"map-marker\"><p data-id=\"TOULON\" style=\"position: absolute; top: 661px; left: 442.702px; font-size: 4px; visibility: hidden; z-index: 10;\">TOULON</p><img data-id=\"TOULON\" src=\"https://travelcheck-acc.utsp.utwente.nl/img/MarkerMap$Icons$IconUTYellow.png\" style=\"position: absolute; top: 668px; left: 448.5px; width: 5px; height: 6px; cursor: pointer; text-align: center; overflow: hidden; pointer-events: auto; visibility: visible;\"></div><div data-id=\"ENSCHEDE\" class=\"map-marker\"><p data-id=\"ENSCHEDE\" style=\"position: absolute; top: 441px; left: 462.552px; font-size: 7px; visibility: visible; z-index: 10;\">ENSCHEDE</p><img data-id=\"ENSCHEDE\" src=\"https://travelcheck-acc.utsp.utwente.nl/img/MarkerMap$Icons$IconGreenBorder.png\" style=\"position: absolute; top: 452px; left: 477.5px; width: 9px; height: 10px; cursor: pointer; text-align: center; overflow: hidden; pointer-events: auto; visibility: visible;\"></div><div data-id=\"STOCKHOLM\" class=\"map-marker\"><p data-id=\"STOCKHOLM\" style=\"position: absolute; top: 283px; left: 613.21px; font-size: 5px; visibility: visible; z-index: 10;\">STOCKHOLM</p><img data-id=\"STOCKHOLM\" src=\"https://travelcheck-acc.utsp.utwente.nl/img/MarkerMap$Icons$IconUTYellowBorder.png\" style=\"position: absolute; top: 292px; left: 625.5px; width: 7px; height: 8px; cursor: pointer; text-align: center; overflow: hidden; pointer-events: auto; visibility: visible;\"></div><div data-id=\"CLUJ\" class=\"map-marker\"><p data-id=\"CLUJ\" style=\"position: absolute; top: 564px; left: 724.999px; font-size: 4px; visibility: hidden; z-index: 10;\">CLUJ</p><img data-id=\"CLUJ\" src=\"https://travelcheck-acc.utsp.utwente.nl/img/MarkerMap$Icons$IconUTYellow.png\" style=\"position: absolute; top: 571px; left: 727.5px; width: 5px; height: 6px; cursor: pointer; text-align: center; overflow: hidden; pointer-events: auto; visibility: visible;\"></div><div data-id=\"BORDEAUX\" class=\"map-marker\"><p data-id=\"BORDEAUX\" style=\"position: absolute; top: 604px; left: 337.775px; font-size: 4px; visibility: hidden; z-index: 10;\">BORDEAUX</p><img data-id=\"BORDEAUX\" src=\"https://travelcheck-acc.utsp.utwente.nl/img/MarkerMap$Icons$IconUTGreen.png\" style=\"position: absolute; top: 611px; left: 346.5px; width: 5px; height: 6px; cursor: pointer; text-align: center; overflow: hidden; pointer-events: auto; visibility: visible;\"></div><div data-id=\"ZURICH\" class=\"map-marker\"><p data-id=\"ZURICH\" style=\"position: absolute; top: 564px; left: 492.445px; font-size: 4px; visibility: hidden; z-index: 10;\">ZURICH</p><img data-id=\"ZURICH\" src=\"https://travelcheck-acc.utsp.utwente.nl/img/MarkerMap$Icons$IconUTGreen.png\" style=\"position: absolute; top: 571px; left: 497.5px; width: 5px; height: 6px; cursor: pointer; text-align: center; overflow: hidden; pointer-events: auto; visibility: visible;\"></div><div data-id=\"FLORENCE\" class=\"map-marker\"><p data-id=\"FLORENCE\" style=\"position: absolute; top: 651px; left: 528.109px; font-size: 4px; visibility: hidden; z-index: 10;\">FLORENCE</p><img data-id=\"FLORENCE\" src=\"https://travelcheck-acc.utsp.utwente.nl/img/MarkerMap$Icons$IconUTYellow.png\" style=\"position: absolute; top: 658px; left: 536.5px; width: 5px; height: 6px; cursor: pointer; text-align: center; overflow: hidden; pointer-events: auto; visibility: visible;\"></div><div data-id=\"TRONDHEIM\" class=\"map-marker\"><p data-id=\"TRONDHEIM\" style=\"position: absolute; top: 193px; left: 528.89px; font-size: 4px; visibility: hidden; z-index: 10;\">TRONDHEIM</p><img data-id=\"TRONDHEIM\" src=\"https://travelcheck-acc.utsp.utwente.nl/img/MarkerMap$Icons$IconUTYellow.png\" style=\"position: absolute; top: 200px; left: 538.5px; width: 5px; height: 6px; cursor: pointer; text-align: center; overflow: hidden; pointer-events: auto; visibility: visible;\"></div><div data-id=\"HELSINKI\" class=\"map-marker\"><p data-id=\"HELSINKI\" style=\"position: absolute; top: 254px; left: 701.886px; font-size: 4px; visibility: hidden; z-index: 10;\">HELSINKI</p><img data-id=\"HELSINKI\" src=\"https://travelcheck-acc.utsp.utwente.nl/img/MarkerMap$Icons$IconUTYellow.png\" style=\"position: absolute; top: 261px; left: 708.5px; width: 5px; height: 6px; cursor: pointer; text-align: center; overflow: hidden; pointer-events: auto; visibility: visible;\"></div><div data-id=\"HAMBURG\" class=\"map-marker\"><p data-id=\"HAMBURG\" style=\"position: absolute; top: 419px; left: 517.777px; font-size: 4px; visibility: hidden; z-index: 10;\">HAMBURG</p><img data-id=\"HAMBURG\" src=\"https://travelcheck-acc.utsp.utwente.nl/img/MarkerMap$Icons$IconUTBlue.png\" style=\"position: absolute; top: 426px; left: 525.5px; width: 5px; height: 6px; cursor: pointer; text-align: center; overflow: hidden; pointer-events: auto; visibility: visible;\"></div><div data-id=\"ANDORRA LA VELLA\" class=\"map-marker\"><p data-id=\"ANDORRA LA VELLA\" style=\"position: absolute; top: 665px; left: 349.269px; font-size: 5px; visibility: visible; z-index: 10;\">ANDORRA LA VELLA</p><img data-id=\"ANDORRA LA VELLA\" src=\"https://travelcheck-acc.utsp.utwente.nl/img/MarkerMap$Icons$IconUTYellowBorder.png\" style=\"position: absolute; top: 674px; left: 370.5px; width: 7px; height: 8px; cursor: pointer; text-align: center; overflow: hidden; pointer-events: auto; visibility: visible;\"></div><div data-id=\"VERONA\" class=\"map-marker\"><p data-id=\"VERONA\" style=\"position: absolute; top: 610px; left: 530.554px; font-size: 4px; visibility: hidden; z-index: 10;\">VERONA</p><img data-id=\"VERONA\" src=\"https://travelcheck-acc.utsp.utwente.nl/img/MarkerMap$Icons$IconUTYellow.png\" style=\"position: absolute; top: 617px; left: 536.5px; width: 5px; height: 6px; cursor: pointer; text-align: center; overflow: hidden; pointer-events: auto; visibility: visible;\"></div><div data-id=\"TROYES\" class=\"map-marker\"><p data-id=\"TROYES\" style=\"position: absolute; top: 549px; left: 430.776px; font-size: 4px; visibility: hidden; z-index: 10;\">TROYES</p><img data-id=\"TROYES\" src=\"https://travelcheck-acc.utsp.utwente.nl/img/MarkerMap$Icons$IconUTBlue.png\" style=\"position: absolute; top: 556px; left: 436.5px; width: 5px; height: 6px; cursor: pointer; text-align: center; overflow: hidden; pointer-events: auto; visibility: visible;\"></div><div data-id=\"GRENOBLE\" class=\"map-marker\"><p data-id=\"GRENOBLE\" style=\"position: absolute; top: 619px; left: 438.886px; font-size: 4px; visibility: hidden; z-index: 10;\">GRENOBLE</p><img data-id=\"GRENOBLE\" src=\"https://travelcheck-acc.utsp.utwente.nl/img/MarkerMap$Icons$IconUTGreen.png\" style=\"position: absolute; top: 626px; left: 447.5px; width: 5px; height: 6px; cursor: pointer; text-align: center; overflow: hidden; pointer-events: auto; visibility: visible;\"></div><div data-id=\"ODENSE\" class=\"map-marker\"><p data-id=\"ODENSE\" style=\"position: absolute; top: 379px; left: 525.554px; font-size: 4px; visibility: hidden; z-index: 10;\">ODENSE</p><img data-id=\"ODENSE\" src=\"https://travelcheck-acc.utsp.utwente.nl/img/MarkerMap$Icons$IconUTBlue.png\" style=\"position: absolute; top: 386px; left: 531.5px; width: 5px; height: 6px; cursor: pointer; text-align: center; overflow: hidden; pointer-events: auto; visibility: visible;\"></div><div data-id=\"BARCELONA\" class=\"map-marker\"><p data-id=\"BARCELONA\" style=\"position: absolute; top: 692px; left: 370.663px; font-size: 4px; visibility: hidden; z-index: 10;\">BARCELONA</p><img data-id=\"BARCELONA\" src=\"https://travelcheck-acc.utsp.utwente.nl/img/MarkerMap$Icons$IconUTYellow.png\" style=\"position: absolute; top: 699px; left: 380.5px; width: 5px; height: 6px; cursor: pointer; text-align: center; overflow: hidden; pointer-events: auto; visibility: visible;\"></div><div data-id=\"MANCHESTER\" class=\"map-marker\"><p data-id=\"MANCHESTER\" style=\"position: absolute; top: 402px; left: 340.999px; font-size: 4px; visibility: hidden; z-index: 10;\">MANCHESTER</p><img data-id=\"MANCHESTER\" src=\"https://travelcheck-acc.utsp.utwente.nl/img/MarkerMap$Icons$IconUTGreen.png\" style=\"position: absolute; top: 409px; left: 352.5px; width: 5px; height: 6px; cursor: pointer; text-align: center; overflow: hidden; pointer-events: auto; visibility: visible;\"></div><div data-id=\"DONCASTER\" class=\"map-marker\"><p data-id=\"DONCASTER\" style=\"position: absolute; top: 403px; left: 364.443px; font-size: 4px; visibility: hidden; z-index: 10;\">DONCASTER</p><img data-id=\"DONCASTER\" src=\"https://travelcheck-acc.utsp.utwente.nl/img/MarkerMap$Icons$IconUTGreen.png\" style=\"position: absolute; top: 410px; left: 374.5px; width: 5px; height: 6px; cursor: pointer; text-align: center; overflow: hidden; pointer-events: auto; visibility: visible;\"></div><div data-id=\"STRASBOURG\" class=\"map-marker\"><p data-id=\"STRASBOURG\" style=\"position: absolute; top: 536px; left: 473.998px; font-size: 4px; visibility: hidden; z-index: 10;\">STRASBOURG</p><img data-id=\"STRASBOURG\" src=\"https://travelcheck-acc.utsp.utwente.nl/img/MarkerMap$Icons$IconUTBlue.png\" style=\"position: absolute; top: 543px; left: 485.5px; width: 5px; height: 6px; cursor: pointer; text-align: center; overflow: hidden; pointer-events: auto; visibility: visible;\"></div><div data-id=\"AALBORG\" class=\"map-marker\"><p data-id=\"AALBORG\" style=\"position: absolute; left: 505.825px; visibility: hidden; z-index: 10;\">AALBORG</p><img data-id=\"AALBORG\" style=\"position: absolute; cursor: pointer; text-align: center; overflow: hidden; pointer-events: auto; visibility: hidden;\"></div><div data-id=\"LUND\" class=\"map-marker\"><p data-id=\"LUND\" style=\"position: absolute; top: 374px; left: 564.555px; font-size: 4px; visibility: hidden; z-index: 10;\">LUND</p><img data-id=\"LUND\" src=\"https://travelcheck-acc.utsp.utwente.nl/img/MarkerMap$Icons$IconUTGreen.png\" style=\"position: absolute; top: 381px; left: 567.5px; width: 5px; height: 6px; cursor: pointer; text-align: center; overflow: hidden; pointer-events: auto; visibility: visible;\"></div><div data-id=\"SOFIA\" class=\"map-marker\"><p data-id=\"SOFIA\" style=\"position: absolute; top: 657px; left: 736.499px; font-size: 5px; visibility: visible; z-index: 10;\">SOFIA</p><img data-id=\"SOFIA\" src=\"https://travelcheck-acc.utsp.utwente.nl/img/MarkerMap$Icons$IconUTYellowBorder.png\" style=\"position: absolute; top: 666px; left: 740.5px; width: 7px; height: 8px; cursor: pointer; text-align: center; overflow: hidden; pointer-events: auto; visibility: visible;\"></div></div>\n",
    "'''\n",
    "\n",
    "# Create a BeautifulSoup object\n",
    "soup = BeautifulSoup(html, 'html.parser')\n",
    "\n",
    "# Find the first element with the data-id attribute\n",
    "data_id = soup.find_all(attrs={\"data-id\": True})\n",
    "\n",
    "data_ids = [element['data-id'] for element in data_id]\n",
    "unique_data_ids = []\n",
    "for i in range(len(data_ids)):\n",
    "    if i == 0 or data_ids[i] != data_ids[i - 1]:\n",
    "        unique_data_ids.append(data_ids[i])\n",
    "        \n",
    "print(unique_data_ids)\n"
   ],
   "id": "f1119e7dcc38aff4"
  },
  {
   "cell_type": "markdown",
   "source": [
    "## Vega-Altair Map"
   ],
   "metadata": {
    "collapsed": false
   },
   "id": "d99b40f2c63ce38a"
  },
  {
   "cell_type": "code",
   "execution_count": 35,
   "id": "806a64a2-c45a-47bd-a639-99d02badff35",
   "metadata": {
    "ExecuteTime": {
     "end_time": "2024-06-15T18:33:56.287146Z",
     "start_time": "2024-06-15T18:33:54.249340Z"
    }
   },
   "outputs": [
    {
     "data": {
      "text/html": "\n<style>\n  #altair-viz-e4163c1b6fe64bb883b21dd4146c65c1.vega-embed {\n    width: 100%;\n    display: flex;\n  }\n\n  #altair-viz-e4163c1b6fe64bb883b21dd4146c65c1.vega-embed details,\n  #altair-viz-e4163c1b6fe64bb883b21dd4146c65c1.vega-embed details summary {\n    position: relative;\n  }\n</style>\n<div id=\"altair-viz-e4163c1b6fe64bb883b21dd4146c65c1\"></div>\n<script type=\"text/javascript\">\n  var VEGA_DEBUG = (typeof VEGA_DEBUG == \"undefined\") ? {} : VEGA_DEBUG;\n  (function(spec, embedOpt){\n    let outputDiv = document.currentScript.previousElementSibling;\n    if (outputDiv.id !== \"altair-viz-e4163c1b6fe64bb883b21dd4146c65c1\") {\n      outputDiv = document.getElementById(\"altair-viz-e4163c1b6fe64bb883b21dd4146c65c1\");\n    }\n    const paths = {\n      \"vega\": \"https://cdn.jsdelivr.net/npm/vega@5?noext\",\n      \"vega-lib\": \"https://cdn.jsdelivr.net/npm/vega-lib?noext\",\n      \"vega-lite\": \"https://cdn.jsdelivr.net/npm/vega-lite@5.17.0?noext\",\n      \"vega-embed\": \"https://cdn.jsdelivr.net/npm/vega-embed@6?noext\",\n    };\n\n    function maybeLoadScript(lib, version) {\n      var key = `${lib.replace(\"-\", \"\")}_version`;\n      return (VEGA_DEBUG[key] == version) ?\n        Promise.resolve(paths[lib]) :\n        new Promise(function(resolve, reject) {\n          var s = document.createElement('script');\n          document.getElementsByTagName(\"head\")[0].appendChild(s);\n          s.async = true;\n          s.onload = () => {\n            VEGA_DEBUG[key] = version;\n            return resolve(paths[lib]);\n          };\n          s.onerror = () => reject(`Error loading script: ${paths[lib]}`);\n          s.src = paths[lib];\n        });\n    }\n\n    function showError(err) {\n      outputDiv.innerHTML = `<div class=\"error\" style=\"color:red;\">${err}</div>`;\n      throw err;\n    }\n\n    function displayChart(vegaEmbed) {\n      vegaEmbed(outputDiv, spec, embedOpt)\n        .catch(err => showError(`Javascript Error: ${err.message}<br>This usually means there's a typo in your chart specification. See the javascript console for the full traceback.`));\n    }\n\n    if(typeof define === \"function\" && define.amd) {\n      requirejs.config({paths});\n      require([\"vega-embed\"], displayChart, err => showError(`Error loading script: ${err.message}`));\n    } else {\n      maybeLoadScript(\"vega\", \"5\")\n        .then(() => maybeLoadScript(\"vega-lite\", \"5.17.0\"))\n        .then(() => maybeLoadScript(\"vega-embed\", \"6\"))\n        .catch(showError)\n        .then(() => displayChart(vegaEmbed));\n    }\n  })({\"config\": {\"view\": {\"continuousWidth\": 300, \"continuousHeight\": 300}}, \"layer\": [{\"data\": {\"url\": \"https://dmws.hkvservices.nl/dataportal/data.asmx/read?database=vega&key=europe\", \"format\": {\"feature\": \"europe\", \"type\": \"topojson\"}}, \"mark\": {\"type\": \"geoshape\", \"fill\": \"lightgray\", \"stroke\": \"white\"}, \"projection\": {\"type\": \"mercator\"}}, {\"data\": {\"name\": \"data-acbc8f2c12886a7681bc42cafb105bdf\"}, \"mark\": {\"type\": \"circle\", \"color\": \"#fc9272\", \"size\": 50}, \"encoding\": {\"latitude\": {\"field\": \"latitude\", \"type\": \"quantitative\"}, \"longitude\": {\"field\": \"longitude\", \"type\": \"quantitative\"}, \"tooltip\": [{\"field\": \"city\", \"type\": \"nominal\"}]}}], \"height\": 1000, \"width\": 1500, \"$schema\": \"https://vega.github.io/schema/vega-lite/v5.17.0.json\", \"datasets\": {\"data-acbc8f2c12886a7681bc42cafb105bdf\": [{\"city\": \"Amsterdam\", \"latitude\": \"52.37403\", \"longitude\": \"4.88969\"}, {\"city\": \"Enschede\", \"latitude\": \"52.21833\", \"longitude\": \"6.89583\"}, {\"city\": \"Andorra la Vella\", \"latitude\": \"42.50779\", \"longitude\": \"1.52109\"}, {\"city\": \"Athens\", \"latitude\": \"37.98376\", \"longitude\": \"23.72784\"}, {\"city\": \"Belgrade\", \"latitude\": \"44.80401\", \"longitude\": \"20.46513\"}, {\"city\": \"Berlin\", \"latitude\": \"52.52437\", \"longitude\": \"13.41053\"}, {\"city\": \"Dresden\", \"latitude\": \"51.05089\", \"longitude\": \"13.73832\"}, {\"city\": \"Munich\", \"latitude\": \"48.13743\", \"longitude\": \"11.57549\"}, {\"city\": \"Bern\", \"latitude\": \"46.94809\", \"longitude\": \"7.44744\"}, {\"city\": \"Bratislava\", \"latitude\": \"48.14816\", \"longitude\": \"17.10674\"}, {\"city\": \"Brussels\", \"latitude\": \"50.85045\", \"longitude\": \"4.34878\"}, {\"city\": \"Bucharest\", \"latitude\": \"44.43225\", \"longitude\": \"26.10626\"}, {\"city\": \"Budapest\", \"latitude\": \"47.49835\", \"longitude\": \"19.04045\"}, {\"city\": \"Chisinau\", \"latitude\": \"47.00556\", \"longitude\": \"28.8575\"}, {\"city\": \"Copenhagen\", \"latitude\": \"55.67594\", \"longitude\": \"12.56553\"}, {\"city\": \"Dublin\", \"latitude\": \"53.33306\", \"longitude\": \"-6.24889\"}, {\"city\": \"Helsinki\", \"latitude\": \"60.16952\", \"longitude\": \"24.93545\"}, {\"city\": \"Kiev\", \"latitude\": \"50.45466\", \"longitude\": \"30.5238\"}, {\"city\": \"Lisbon\", \"latitude\": \"38.71667\", \"longitude\": \"-9.13333\"}, {\"city\": \"Ljubljana\", \"latitude\": \"46.05108\", \"longitude\": \"14.50513\"}, {\"city\": \"London\", \"latitude\": \"51.50853\", \"longitude\": \"-0.12574\"}, {\"city\": \"Luxembourg\", \"latitude\": \"49.61167\", \"longitude\": \"6.13\"}, {\"city\": \"Madrid\", \"latitude\": \"40.4165\", \"longitude\": \"-3.70256\"}, {\"city\": \"Minsk\", \"latitude\": \"53.9\", \"longitude\": \"27.56667\"}, {\"city\": \"Monaco\", \"latitude\": \"43.73718\", \"longitude\": \"7.42145\"}, {\"city\": \"Oslo\", \"latitude\": \"59.91273\", \"longitude\": \"10.74609\"}, {\"city\": \"Paris\", \"latitude\": \"48.85341\", \"longitude\": \"2.3488\"}, {\"city\": \"Podgorica\", \"latitude\": \"42.44111\", \"longitude\": \"19.26361\"}, {\"city\": \"Prague\", \"latitude\": \"50.08804\", \"longitude\": \"14.42076\"}, {\"city\": \"Riga\", \"latitude\": \"56.946\", \"longitude\": \"24.10589\"}, {\"city\": \"Rome\", \"latitude\": \"41.89193\", \"longitude\": \"12.51133\"}, {\"city\": \"San Marino\", \"latitude\": \"43.93667\", \"longitude\": \"12.44639\"}, {\"city\": \"Sarajevo\", \"latitude\": \"43.84864\", \"longitude\": \"18.35644\"}, {\"city\": \"Skopje\", \"latitude\": \"41.99646\", \"longitude\": \"21.43141\"}, {\"city\": \"Sofia\", \"latitude\": \"42.69751\", \"longitude\": \"23.32415\"}, {\"city\": \"Stockholm\", \"latitude\": \"59.32938\", \"longitude\": \"18.06871\"}, {\"city\": \"Tallinn\", \"latitude\": \"59.43696\", \"longitude\": \"24.75353\"}, {\"city\": \"Tirana\", \"latitude\": \"41.3275\", \"longitude\": \"19.81889\"}, {\"city\": \"Vaduz\", \"latitude\": \"47.14151\", \"longitude\": \"9.52154\"}, {\"city\": \"Vienna\", \"latitude\": \"48.20849\", \"longitude\": \"16.37208\"}, {\"city\": \"Vilnius\", \"latitude\": \"54.68916\", \"longitude\": \"25.2798\"}, {\"city\": \"Warsaw\", \"latitude\": \"52.22977\", \"longitude\": \"21.01178\"}, {\"city\": \"Zagreb\", \"latitude\": \"45.81444\", \"longitude\": \"15.97798\"}]}}, {\"mode\": \"vega-lite\"});\n</script>",
      "text/plain": "alt.LayerChart(...)"
     },
     "execution_count": 35,
     "metadata": {},
     "output_type": "execute_result"
    }
   ],
   "source": [
    "import altair as alt\n",
    "\n",
    "#load topojson of Europe\n",
    "europe = alt.topo_feature('https://dmws.hkvservices.nl/dataportal/data.asmx/read?database=vega&key=europe', 'europe')\n",
    "\n",
    "#create the map\n",
    "base = alt.Chart(europe).mark_geoshape(\n",
    "    fill='lightgray',\n",
    "    stroke='white'\n",
    ").project(\n",
    "    'mercator'\n",
    ").properties(\n",
    "    width=1500,\n",
    "    height=1000\n",
    ")\n",
    "\n",
    "#add cities\n",
    "points = alt.Chart(cities_df).mark_circle(color='#fc9272', size=50).encode(\n",
    "    longitude='longitude:Q',\n",
    "    latitude='latitude:Q',\n",
    "    tooltip=['city:N']\n",
    ")\n",
    "\n",
    "#combine basemap and cities\n",
    "map_with_cities = base + points\n",
    "map_with_cities"
   ]
  },
  {
   "cell_type": "markdown",
   "source": [
    "## Plotly Map"
   ],
   "metadata": {
    "collapsed": false
   },
   "id": "59b9b1316666d9bd"
  },
  {
   "cell_type": "code",
   "outputs": [
    {
     "data": {
      "application/vnd.plotly.v1+json": {
       "data": [
        {
         "hoverlabel": {
          "bgcolor": "white",
          "bordercolor": "white",
          "font": {
           "color": "black",
           "family": "Open Sans",
           "size": 12
          }
         },
         "hovertemplate": "<b>%{text}</b><br>Lat: %{lat:.2f} Lon: %{lon:.2f}<br><extra></extra>",
         "lat": [
          "52.37403",
          "52.21833",
          "42.50779",
          "37.98376",
          "44.80401",
          "52.52437",
          "51.05089",
          "48.13743",
          "46.94809",
          "48.14816",
          "50.85045",
          "44.43225",
          "47.49835",
          "47.00556",
          "55.67594",
          "53.33306",
          "60.16952",
          "50.45466",
          "38.71667",
          "46.05108",
          "51.50853",
          "49.61167",
          "40.4165",
          "53.9",
          "43.73718",
          "59.91273",
          "48.85341",
          "42.44111",
          "50.08804",
          "56.946",
          "41.89193",
          "43.93667",
          "43.84864",
          "41.99646",
          "42.69751",
          "59.32938",
          "59.43696",
          "41.3275",
          "47.14151",
          "48.20849",
          "54.68916",
          "52.22977",
          "45.81444"
         ],
         "lon": [
          "4.88969",
          "6.89583",
          "1.52109",
          "23.72784",
          "20.46513",
          "13.41053",
          "13.73832",
          "11.57549",
          "7.44744",
          "17.10674",
          "4.34878",
          "26.10626",
          "19.04045",
          "28.8575",
          "12.56553",
          "-6.24889",
          "24.93545",
          "30.5238",
          "-9.13333",
          "14.50513",
          "-0.12574",
          "6.13",
          "-3.70256",
          "27.56667",
          "7.42145",
          "10.74609",
          "2.3488",
          "19.26361",
          "14.42076",
          "24.10589",
          "12.51133",
          "12.44639",
          "18.35644",
          "21.43141",
          "23.32415",
          "18.06871",
          "24.75353",
          "19.81889",
          "9.52154",
          "16.37208",
          "25.2798",
          "21.01178",
          "15.97798"
         ],
         "marker": {
          "color": "#fc9272",
          "size": 8,
          "symbol": "circle"
         },
         "mode": "markers",
         "text": [
          "Amsterdam",
          "Enschede",
          "Andorra la Vella",
          "Athens",
          "Belgrade",
          "Berlin",
          "Dresden",
          "Munich",
          "Bern",
          "Bratislava",
          "Brussels",
          "Bucharest",
          "Budapest",
          "Chisinau",
          "Copenhagen",
          "Dublin",
          "Helsinki",
          "Kiev",
          "Lisbon",
          "Ljubljana",
          "London",
          "Luxembourg",
          "Madrid",
          "Minsk",
          "Monaco",
          "Oslo",
          "Paris",
          "Podgorica",
          "Prague",
          "Riga",
          "Rome",
          "San Marino",
          "Sarajevo",
          "Skopje",
          "Sofia",
          "Stockholm",
          "Tallinn",
          "Tirana",
          "Vaduz",
          "Vienna",
          "Vilnius",
          "Warsaw",
          "Zagreb"
         ],
         "type": "scattergeo"
        }
       ],
       "layout": {
        "template": {
         "data": {
          "histogram2dcontour": [
           {
            "type": "histogram2dcontour",
            "colorbar": {
             "outlinewidth": 0,
             "ticks": ""
            },
            "colorscale": [
             [
              0.0,
              "#0d0887"
             ],
             [
              0.1111111111111111,
              "#46039f"
             ],
             [
              0.2222222222222222,
              "#7201a8"
             ],
             [
              0.3333333333333333,
              "#9c179e"
             ],
             [
              0.4444444444444444,
              "#bd3786"
             ],
             [
              0.5555555555555556,
              "#d8576b"
             ],
             [
              0.6666666666666666,
              "#ed7953"
             ],
             [
              0.7777777777777778,
              "#fb9f3a"
             ],
             [
              0.8888888888888888,
              "#fdca26"
             ],
             [
              1.0,
              "#f0f921"
             ]
            ]
           }
          ],
          "choropleth": [
           {
            "type": "choropleth",
            "colorbar": {
             "outlinewidth": 0,
             "ticks": ""
            }
           }
          ],
          "histogram2d": [
           {
            "type": "histogram2d",
            "colorbar": {
             "outlinewidth": 0,
             "ticks": ""
            },
            "colorscale": [
             [
              0.0,
              "#0d0887"
             ],
             [
              0.1111111111111111,
              "#46039f"
             ],
             [
              0.2222222222222222,
              "#7201a8"
             ],
             [
              0.3333333333333333,
              "#9c179e"
             ],
             [
              0.4444444444444444,
              "#bd3786"
             ],
             [
              0.5555555555555556,
              "#d8576b"
             ],
             [
              0.6666666666666666,
              "#ed7953"
             ],
             [
              0.7777777777777778,
              "#fb9f3a"
             ],
             [
              0.8888888888888888,
              "#fdca26"
             ],
             [
              1.0,
              "#f0f921"
             ]
            ]
           }
          ],
          "heatmap": [
           {
            "type": "heatmap",
            "colorbar": {
             "outlinewidth": 0,
             "ticks": ""
            },
            "colorscale": [
             [
              0.0,
              "#0d0887"
             ],
             [
              0.1111111111111111,
              "#46039f"
             ],
             [
              0.2222222222222222,
              "#7201a8"
             ],
             [
              0.3333333333333333,
              "#9c179e"
             ],
             [
              0.4444444444444444,
              "#bd3786"
             ],
             [
              0.5555555555555556,
              "#d8576b"
             ],
             [
              0.6666666666666666,
              "#ed7953"
             ],
             [
              0.7777777777777778,
              "#fb9f3a"
             ],
             [
              0.8888888888888888,
              "#fdca26"
             ],
             [
              1.0,
              "#f0f921"
             ]
            ]
           }
          ],
          "heatmapgl": [
           {
            "type": "heatmapgl",
            "colorbar": {
             "outlinewidth": 0,
             "ticks": ""
            },
            "colorscale": [
             [
              0.0,
              "#0d0887"
             ],
             [
              0.1111111111111111,
              "#46039f"
             ],
             [
              0.2222222222222222,
              "#7201a8"
             ],
             [
              0.3333333333333333,
              "#9c179e"
             ],
             [
              0.4444444444444444,
              "#bd3786"
             ],
             [
              0.5555555555555556,
              "#d8576b"
             ],
             [
              0.6666666666666666,
              "#ed7953"
             ],
             [
              0.7777777777777778,
              "#fb9f3a"
             ],
             [
              0.8888888888888888,
              "#fdca26"
             ],
             [
              1.0,
              "#f0f921"
             ]
            ]
           }
          ],
          "contourcarpet": [
           {
            "type": "contourcarpet",
            "colorbar": {
             "outlinewidth": 0,
             "ticks": ""
            }
           }
          ],
          "contour": [
           {
            "type": "contour",
            "colorbar": {
             "outlinewidth": 0,
             "ticks": ""
            },
            "colorscale": [
             [
              0.0,
              "#0d0887"
             ],
             [
              0.1111111111111111,
              "#46039f"
             ],
             [
              0.2222222222222222,
              "#7201a8"
             ],
             [
              0.3333333333333333,
              "#9c179e"
             ],
             [
              0.4444444444444444,
              "#bd3786"
             ],
             [
              0.5555555555555556,
              "#d8576b"
             ],
             [
              0.6666666666666666,
              "#ed7953"
             ],
             [
              0.7777777777777778,
              "#fb9f3a"
             ],
             [
              0.8888888888888888,
              "#fdca26"
             ],
             [
              1.0,
              "#f0f921"
             ]
            ]
           }
          ],
          "surface": [
           {
            "type": "surface",
            "colorbar": {
             "outlinewidth": 0,
             "ticks": ""
            },
            "colorscale": [
             [
              0.0,
              "#0d0887"
             ],
             [
              0.1111111111111111,
              "#46039f"
             ],
             [
              0.2222222222222222,
              "#7201a8"
             ],
             [
              0.3333333333333333,
              "#9c179e"
             ],
             [
              0.4444444444444444,
              "#bd3786"
             ],
             [
              0.5555555555555556,
              "#d8576b"
             ],
             [
              0.6666666666666666,
              "#ed7953"
             ],
             [
              0.7777777777777778,
              "#fb9f3a"
             ],
             [
              0.8888888888888888,
              "#fdca26"
             ],
             [
              1.0,
              "#f0f921"
             ]
            ]
           }
          ],
          "mesh3d": [
           {
            "type": "mesh3d",
            "colorbar": {
             "outlinewidth": 0,
             "ticks": ""
            }
           }
          ],
          "scatter": [
           {
            "fillpattern": {
             "fillmode": "overlay",
             "size": 10,
             "solidity": 0.2
            },
            "type": "scatter"
           }
          ],
          "parcoords": [
           {
            "type": "parcoords",
            "line": {
             "colorbar": {
              "outlinewidth": 0,
              "ticks": ""
             }
            }
           }
          ],
          "scatterpolargl": [
           {
            "type": "scatterpolargl",
            "marker": {
             "colorbar": {
              "outlinewidth": 0,
              "ticks": ""
             }
            }
           }
          ],
          "bar": [
           {
            "error_x": {
             "color": "#2a3f5f"
            },
            "error_y": {
             "color": "#2a3f5f"
            },
            "marker": {
             "line": {
              "color": "#E5ECF6",
              "width": 0.5
             },
             "pattern": {
              "fillmode": "overlay",
              "size": 10,
              "solidity": 0.2
             }
            },
            "type": "bar"
           }
          ],
          "scattergeo": [
           {
            "type": "scattergeo",
            "marker": {
             "colorbar": {
              "outlinewidth": 0,
              "ticks": ""
             }
            }
           }
          ],
          "scatterpolar": [
           {
            "type": "scatterpolar",
            "marker": {
             "colorbar": {
              "outlinewidth": 0,
              "ticks": ""
             }
            }
           }
          ],
          "histogram": [
           {
            "marker": {
             "pattern": {
              "fillmode": "overlay",
              "size": 10,
              "solidity": 0.2
             }
            },
            "type": "histogram"
           }
          ],
          "scattergl": [
           {
            "type": "scattergl",
            "marker": {
             "colorbar": {
              "outlinewidth": 0,
              "ticks": ""
             }
            }
           }
          ],
          "scatter3d": [
           {
            "type": "scatter3d",
            "line": {
             "colorbar": {
              "outlinewidth": 0,
              "ticks": ""
             }
            },
            "marker": {
             "colorbar": {
              "outlinewidth": 0,
              "ticks": ""
             }
            }
           }
          ],
          "scattermapbox": [
           {
            "type": "scattermapbox",
            "marker": {
             "colorbar": {
              "outlinewidth": 0,
              "ticks": ""
             }
            }
           }
          ],
          "scatterternary": [
           {
            "type": "scatterternary",
            "marker": {
             "colorbar": {
              "outlinewidth": 0,
              "ticks": ""
             }
            }
           }
          ],
          "scattercarpet": [
           {
            "type": "scattercarpet",
            "marker": {
             "colorbar": {
              "outlinewidth": 0,
              "ticks": ""
             }
            }
           }
          ],
          "carpet": [
           {
            "aaxis": {
             "endlinecolor": "#2a3f5f",
             "gridcolor": "white",
             "linecolor": "white",
             "minorgridcolor": "white",
             "startlinecolor": "#2a3f5f"
            },
            "baxis": {
             "endlinecolor": "#2a3f5f",
             "gridcolor": "white",
             "linecolor": "white",
             "minorgridcolor": "white",
             "startlinecolor": "#2a3f5f"
            },
            "type": "carpet"
           }
          ],
          "table": [
           {
            "cells": {
             "fill": {
              "color": "#EBF0F8"
             },
             "line": {
              "color": "white"
             }
            },
            "header": {
             "fill": {
              "color": "#C8D4E3"
             },
             "line": {
              "color": "white"
             }
            },
            "type": "table"
           }
          ],
          "barpolar": [
           {
            "marker": {
             "line": {
              "color": "#E5ECF6",
              "width": 0.5
             },
             "pattern": {
              "fillmode": "overlay",
              "size": 10,
              "solidity": 0.2
             }
            },
            "type": "barpolar"
           }
          ],
          "pie": [
           {
            "automargin": true,
            "type": "pie"
           }
          ]
         },
         "layout": {
          "autotypenumbers": "strict",
          "colorway": [
           "#636efa",
           "#EF553B",
           "#00cc96",
           "#ab63fa",
           "#FFA15A",
           "#19d3f3",
           "#FF6692",
           "#B6E880",
           "#FF97FF",
           "#FECB52"
          ],
          "font": {
           "color": "#2a3f5f"
          },
          "hovermode": "closest",
          "hoverlabel": {
           "align": "left"
          },
          "paper_bgcolor": "white",
          "plot_bgcolor": "#E5ECF6",
          "polar": {
           "bgcolor": "#E5ECF6",
           "angularaxis": {
            "gridcolor": "white",
            "linecolor": "white",
            "ticks": ""
           },
           "radialaxis": {
            "gridcolor": "white",
            "linecolor": "white",
            "ticks": ""
           }
          },
          "ternary": {
           "bgcolor": "#E5ECF6",
           "aaxis": {
            "gridcolor": "white",
            "linecolor": "white",
            "ticks": ""
           },
           "baxis": {
            "gridcolor": "white",
            "linecolor": "white",
            "ticks": ""
           },
           "caxis": {
            "gridcolor": "white",
            "linecolor": "white",
            "ticks": ""
           }
          },
          "coloraxis": {
           "colorbar": {
            "outlinewidth": 0,
            "ticks": ""
           }
          },
          "colorscale": {
           "sequential": [
            [
             0.0,
             "#0d0887"
            ],
            [
             0.1111111111111111,
             "#46039f"
            ],
            [
             0.2222222222222222,
             "#7201a8"
            ],
            [
             0.3333333333333333,
             "#9c179e"
            ],
            [
             0.4444444444444444,
             "#bd3786"
            ],
            [
             0.5555555555555556,
             "#d8576b"
            ],
            [
             0.6666666666666666,
             "#ed7953"
            ],
            [
             0.7777777777777778,
             "#fb9f3a"
            ],
            [
             0.8888888888888888,
             "#fdca26"
            ],
            [
             1.0,
             "#f0f921"
            ]
           ],
           "sequentialminus": [
            [
             0.0,
             "#0d0887"
            ],
            [
             0.1111111111111111,
             "#46039f"
            ],
            [
             0.2222222222222222,
             "#7201a8"
            ],
            [
             0.3333333333333333,
             "#9c179e"
            ],
            [
             0.4444444444444444,
             "#bd3786"
            ],
            [
             0.5555555555555556,
             "#d8576b"
            ],
            [
             0.6666666666666666,
             "#ed7953"
            ],
            [
             0.7777777777777778,
             "#fb9f3a"
            ],
            [
             0.8888888888888888,
             "#fdca26"
            ],
            [
             1.0,
             "#f0f921"
            ]
           ],
           "diverging": [
            [
             0,
             "#8e0152"
            ],
            [
             0.1,
             "#c51b7d"
            ],
            [
             0.2,
             "#de77ae"
            ],
            [
             0.3,
             "#f1b6da"
            ],
            [
             0.4,
             "#fde0ef"
            ],
            [
             0.5,
             "#f7f7f7"
            ],
            [
             0.6,
             "#e6f5d0"
            ],
            [
             0.7,
             "#b8e186"
            ],
            [
             0.8,
             "#7fbc41"
            ],
            [
             0.9,
             "#4d9221"
            ],
            [
             1,
             "#276419"
            ]
           ]
          },
          "xaxis": {
           "gridcolor": "white",
           "linecolor": "white",
           "ticks": "",
           "title": {
            "standoff": 15
           },
           "zerolinecolor": "white",
           "automargin": true,
           "zerolinewidth": 2
          },
          "yaxis": {
           "gridcolor": "white",
           "linecolor": "white",
           "ticks": "",
           "title": {
            "standoff": 15
           },
           "zerolinecolor": "white",
           "automargin": true,
           "zerolinewidth": 2
          },
          "scene": {
           "xaxis": {
            "backgroundcolor": "#E5ECF6",
            "gridcolor": "white",
            "linecolor": "white",
            "showbackground": true,
            "ticks": "",
            "zerolinecolor": "white",
            "gridwidth": 2
           },
           "yaxis": {
            "backgroundcolor": "#E5ECF6",
            "gridcolor": "white",
            "linecolor": "white",
            "showbackground": true,
            "ticks": "",
            "zerolinecolor": "white",
            "gridwidth": 2
           },
           "zaxis": {
            "backgroundcolor": "#E5ECF6",
            "gridcolor": "white",
            "linecolor": "white",
            "showbackground": true,
            "ticks": "",
            "zerolinecolor": "white",
            "gridwidth": 2
           }
          },
          "shapedefaults": {
           "line": {
            "color": "#2a3f5f"
           }
          },
          "annotationdefaults": {
           "arrowcolor": "#2a3f5f",
           "arrowhead": 0,
           "arrowwidth": 1
          },
          "geo": {
           "bgcolor": "white",
           "landcolor": "#E5ECF6",
           "subunitcolor": "white",
           "showland": true,
           "showlakes": true,
           "lakecolor": "white"
          },
          "title": {
           "x": 0.05
          },
          "mapbox": {
           "style": "light"
          }
         }
        },
        "geo": {
         "projection": {
          "type": "mercator"
         },
         "lonaxis": {
          "range": [
           -11.0,
           32.0
          ]
         },
         "lataxis": {
          "range": [
           36.0,
           60.0
          ]
         },
         "scope": "europe",
         "showland": true,
         "landcolor": "#bdbdbd",
         "showcoastlines": false,
         "showlakes": false,
         "countrywidth": 0.5,
         "countrycolor": "white",
         "resolution": 50
        },
        "title": {
         "text": "Train Map of Europe"
        },
        "width": 1000,
        "height": 800
       },
       "config": {
        "plotlyServerURL": "https://plot.ly"
       }
      },
      "text/html": "<div>                            <div id=\"017b3059-6030-4b95-aa7f-538028b3910f\" class=\"plotly-graph-div\" style=\"height:800px; width:1000px;\"></div>            <script type=\"text/javascript\">                require([\"plotly\"], function(Plotly) {                    window.PLOTLYENV=window.PLOTLYENV || {};                                    if (document.getElementById(\"017b3059-6030-4b95-aa7f-538028b3910f\")) {                    Plotly.newPlot(                        \"017b3059-6030-4b95-aa7f-538028b3910f\",                        [{\"hoverlabel\":{\"bgcolor\":\"white\",\"bordercolor\":\"white\",\"font\":{\"color\":\"black\",\"family\":\"Open Sans\",\"size\":12}},\"hovertemplate\":\"\\u003cb\\u003e%{text}\\u003c\\u002fb\\u003e\\u003cbr\\u003eLat: %{lat:.2f} Lon: %{lon:.2f}\\u003cbr\\u003e\\u003cextra\\u003e\\u003c\\u002fextra\\u003e\",\"lat\":[\"52.37403\",\"52.21833\",\"42.50779\",\"37.98376\",\"44.80401\",\"52.52437\",\"51.05089\",\"48.13743\",\"46.94809\",\"48.14816\",\"50.85045\",\"44.43225\",\"47.49835\",\"47.00556\",\"55.67594\",\"53.33306\",\"60.16952\",\"50.45466\",\"38.71667\",\"46.05108\",\"51.50853\",\"49.61167\",\"40.4165\",\"53.9\",\"43.73718\",\"59.91273\",\"48.85341\",\"42.44111\",\"50.08804\",\"56.946\",\"41.89193\",\"43.93667\",\"43.84864\",\"41.99646\",\"42.69751\",\"59.32938\",\"59.43696\",\"41.3275\",\"47.14151\",\"48.20849\",\"54.68916\",\"52.22977\",\"45.81444\"],\"lon\":[\"4.88969\",\"6.89583\",\"1.52109\",\"23.72784\",\"20.46513\",\"13.41053\",\"13.73832\",\"11.57549\",\"7.44744\",\"17.10674\",\"4.34878\",\"26.10626\",\"19.04045\",\"28.8575\",\"12.56553\",\"-6.24889\",\"24.93545\",\"30.5238\",\"-9.13333\",\"14.50513\",\"-0.12574\",\"6.13\",\"-3.70256\",\"27.56667\",\"7.42145\",\"10.74609\",\"2.3488\",\"19.26361\",\"14.42076\",\"24.10589\",\"12.51133\",\"12.44639\",\"18.35644\",\"21.43141\",\"23.32415\",\"18.06871\",\"24.75353\",\"19.81889\",\"9.52154\",\"16.37208\",\"25.2798\",\"21.01178\",\"15.97798\"],\"marker\":{\"color\":\"#fc9272\",\"size\":8,\"symbol\":\"circle\"},\"mode\":\"markers\",\"text\":[\"Amsterdam\",\"Enschede\",\"Andorra la Vella\",\"Athens\",\"Belgrade\",\"Berlin\",\"Dresden\",\"Munich\",\"Bern\",\"Bratislava\",\"Brussels\",\"Bucharest\",\"Budapest\",\"Chisinau\",\"Copenhagen\",\"Dublin\",\"Helsinki\",\"Kiev\",\"Lisbon\",\"Ljubljana\",\"London\",\"Luxembourg\",\"Madrid\",\"Minsk\",\"Monaco\",\"Oslo\",\"Paris\",\"Podgorica\",\"Prague\",\"Riga\",\"Rome\",\"San Marino\",\"Sarajevo\",\"Skopje\",\"Sofia\",\"Stockholm\",\"Tallinn\",\"Tirana\",\"Vaduz\",\"Vienna\",\"Vilnius\",\"Warsaw\",\"Zagreb\"],\"type\":\"scattergeo\"}],                        {\"template\":{\"data\":{\"histogram2dcontour\":[{\"type\":\"histogram2dcontour\",\"colorbar\":{\"outlinewidth\":0,\"ticks\":\"\"},\"colorscale\":[[0.0,\"#0d0887\"],[0.1111111111111111,\"#46039f\"],[0.2222222222222222,\"#7201a8\"],[0.3333333333333333,\"#9c179e\"],[0.4444444444444444,\"#bd3786\"],[0.5555555555555556,\"#d8576b\"],[0.6666666666666666,\"#ed7953\"],[0.7777777777777778,\"#fb9f3a\"],[0.8888888888888888,\"#fdca26\"],[1.0,\"#f0f921\"]]}],\"choropleth\":[{\"type\":\"choropleth\",\"colorbar\":{\"outlinewidth\":0,\"ticks\":\"\"}}],\"histogram2d\":[{\"type\":\"histogram2d\",\"colorbar\":{\"outlinewidth\":0,\"ticks\":\"\"},\"colorscale\":[[0.0,\"#0d0887\"],[0.1111111111111111,\"#46039f\"],[0.2222222222222222,\"#7201a8\"],[0.3333333333333333,\"#9c179e\"],[0.4444444444444444,\"#bd3786\"],[0.5555555555555556,\"#d8576b\"],[0.6666666666666666,\"#ed7953\"],[0.7777777777777778,\"#fb9f3a\"],[0.8888888888888888,\"#fdca26\"],[1.0,\"#f0f921\"]]}],\"heatmap\":[{\"type\":\"heatmap\",\"colorbar\":{\"outlinewidth\":0,\"ticks\":\"\"},\"colorscale\":[[0.0,\"#0d0887\"],[0.1111111111111111,\"#46039f\"],[0.2222222222222222,\"#7201a8\"],[0.3333333333333333,\"#9c179e\"],[0.4444444444444444,\"#bd3786\"],[0.5555555555555556,\"#d8576b\"],[0.6666666666666666,\"#ed7953\"],[0.7777777777777778,\"#fb9f3a\"],[0.8888888888888888,\"#fdca26\"],[1.0,\"#f0f921\"]]}],\"heatmapgl\":[{\"type\":\"heatmapgl\",\"colorbar\":{\"outlinewidth\":0,\"ticks\":\"\"},\"colorscale\":[[0.0,\"#0d0887\"],[0.1111111111111111,\"#46039f\"],[0.2222222222222222,\"#7201a8\"],[0.3333333333333333,\"#9c179e\"],[0.4444444444444444,\"#bd3786\"],[0.5555555555555556,\"#d8576b\"],[0.6666666666666666,\"#ed7953\"],[0.7777777777777778,\"#fb9f3a\"],[0.8888888888888888,\"#fdca26\"],[1.0,\"#f0f921\"]]}],\"contourcarpet\":[{\"type\":\"contourcarpet\",\"colorbar\":{\"outlinewidth\":0,\"ticks\":\"\"}}],\"contour\":[{\"type\":\"contour\",\"colorbar\":{\"outlinewidth\":0,\"ticks\":\"\"},\"colorscale\":[[0.0,\"#0d0887\"],[0.1111111111111111,\"#46039f\"],[0.2222222222222222,\"#7201a8\"],[0.3333333333333333,\"#9c179e\"],[0.4444444444444444,\"#bd3786\"],[0.5555555555555556,\"#d8576b\"],[0.6666666666666666,\"#ed7953\"],[0.7777777777777778,\"#fb9f3a\"],[0.8888888888888888,\"#fdca26\"],[1.0,\"#f0f921\"]]}],\"surface\":[{\"type\":\"surface\",\"colorbar\":{\"outlinewidth\":0,\"ticks\":\"\"},\"colorscale\":[[0.0,\"#0d0887\"],[0.1111111111111111,\"#46039f\"],[0.2222222222222222,\"#7201a8\"],[0.3333333333333333,\"#9c179e\"],[0.4444444444444444,\"#bd3786\"],[0.5555555555555556,\"#d8576b\"],[0.6666666666666666,\"#ed7953\"],[0.7777777777777778,\"#fb9f3a\"],[0.8888888888888888,\"#fdca26\"],[1.0,\"#f0f921\"]]}],\"mesh3d\":[{\"type\":\"mesh3d\",\"colorbar\":{\"outlinewidth\":0,\"ticks\":\"\"}}],\"scatter\":[{\"fillpattern\":{\"fillmode\":\"overlay\",\"size\":10,\"solidity\":0.2},\"type\":\"scatter\"}],\"parcoords\":[{\"type\":\"parcoords\",\"line\":{\"colorbar\":{\"outlinewidth\":0,\"ticks\":\"\"}}}],\"scatterpolargl\":[{\"type\":\"scatterpolargl\",\"marker\":{\"colorbar\":{\"outlinewidth\":0,\"ticks\":\"\"}}}],\"bar\":[{\"error_x\":{\"color\":\"#2a3f5f\"},\"error_y\":{\"color\":\"#2a3f5f\"},\"marker\":{\"line\":{\"color\":\"#E5ECF6\",\"width\":0.5},\"pattern\":{\"fillmode\":\"overlay\",\"size\":10,\"solidity\":0.2}},\"type\":\"bar\"}],\"scattergeo\":[{\"type\":\"scattergeo\",\"marker\":{\"colorbar\":{\"outlinewidth\":0,\"ticks\":\"\"}}}],\"scatterpolar\":[{\"type\":\"scatterpolar\",\"marker\":{\"colorbar\":{\"outlinewidth\":0,\"ticks\":\"\"}}}],\"histogram\":[{\"marker\":{\"pattern\":{\"fillmode\":\"overlay\",\"size\":10,\"solidity\":0.2}},\"type\":\"histogram\"}],\"scattergl\":[{\"type\":\"scattergl\",\"marker\":{\"colorbar\":{\"outlinewidth\":0,\"ticks\":\"\"}}}],\"scatter3d\":[{\"type\":\"scatter3d\",\"line\":{\"colorbar\":{\"outlinewidth\":0,\"ticks\":\"\"}},\"marker\":{\"colorbar\":{\"outlinewidth\":0,\"ticks\":\"\"}}}],\"scattermapbox\":[{\"type\":\"scattermapbox\",\"marker\":{\"colorbar\":{\"outlinewidth\":0,\"ticks\":\"\"}}}],\"scatterternary\":[{\"type\":\"scatterternary\",\"marker\":{\"colorbar\":{\"outlinewidth\":0,\"ticks\":\"\"}}}],\"scattercarpet\":[{\"type\":\"scattercarpet\",\"marker\":{\"colorbar\":{\"outlinewidth\":0,\"ticks\":\"\"}}}],\"carpet\":[{\"aaxis\":{\"endlinecolor\":\"#2a3f5f\",\"gridcolor\":\"white\",\"linecolor\":\"white\",\"minorgridcolor\":\"white\",\"startlinecolor\":\"#2a3f5f\"},\"baxis\":{\"endlinecolor\":\"#2a3f5f\",\"gridcolor\":\"white\",\"linecolor\":\"white\",\"minorgridcolor\":\"white\",\"startlinecolor\":\"#2a3f5f\"},\"type\":\"carpet\"}],\"table\":[{\"cells\":{\"fill\":{\"color\":\"#EBF0F8\"},\"line\":{\"color\":\"white\"}},\"header\":{\"fill\":{\"color\":\"#C8D4E3\"},\"line\":{\"color\":\"white\"}},\"type\":\"table\"}],\"barpolar\":[{\"marker\":{\"line\":{\"color\":\"#E5ECF6\",\"width\":0.5},\"pattern\":{\"fillmode\":\"overlay\",\"size\":10,\"solidity\":0.2}},\"type\":\"barpolar\"}],\"pie\":[{\"automargin\":true,\"type\":\"pie\"}]},\"layout\":{\"autotypenumbers\":\"strict\",\"colorway\":[\"#636efa\",\"#EF553B\",\"#00cc96\",\"#ab63fa\",\"#FFA15A\",\"#19d3f3\",\"#FF6692\",\"#B6E880\",\"#FF97FF\",\"#FECB52\"],\"font\":{\"color\":\"#2a3f5f\"},\"hovermode\":\"closest\",\"hoverlabel\":{\"align\":\"left\"},\"paper_bgcolor\":\"white\",\"plot_bgcolor\":\"#E5ECF6\",\"polar\":{\"bgcolor\":\"#E5ECF6\",\"angularaxis\":{\"gridcolor\":\"white\",\"linecolor\":\"white\",\"ticks\":\"\"},\"radialaxis\":{\"gridcolor\":\"white\",\"linecolor\":\"white\",\"ticks\":\"\"}},\"ternary\":{\"bgcolor\":\"#E5ECF6\",\"aaxis\":{\"gridcolor\":\"white\",\"linecolor\":\"white\",\"ticks\":\"\"},\"baxis\":{\"gridcolor\":\"white\",\"linecolor\":\"white\",\"ticks\":\"\"},\"caxis\":{\"gridcolor\":\"white\",\"linecolor\":\"white\",\"ticks\":\"\"}},\"coloraxis\":{\"colorbar\":{\"outlinewidth\":0,\"ticks\":\"\"}},\"colorscale\":{\"sequential\":[[0.0,\"#0d0887\"],[0.1111111111111111,\"#46039f\"],[0.2222222222222222,\"#7201a8\"],[0.3333333333333333,\"#9c179e\"],[0.4444444444444444,\"#bd3786\"],[0.5555555555555556,\"#d8576b\"],[0.6666666666666666,\"#ed7953\"],[0.7777777777777778,\"#fb9f3a\"],[0.8888888888888888,\"#fdca26\"],[1.0,\"#f0f921\"]],\"sequentialminus\":[[0.0,\"#0d0887\"],[0.1111111111111111,\"#46039f\"],[0.2222222222222222,\"#7201a8\"],[0.3333333333333333,\"#9c179e\"],[0.4444444444444444,\"#bd3786\"],[0.5555555555555556,\"#d8576b\"],[0.6666666666666666,\"#ed7953\"],[0.7777777777777778,\"#fb9f3a\"],[0.8888888888888888,\"#fdca26\"],[1.0,\"#f0f921\"]],\"diverging\":[[0,\"#8e0152\"],[0.1,\"#c51b7d\"],[0.2,\"#de77ae\"],[0.3,\"#f1b6da\"],[0.4,\"#fde0ef\"],[0.5,\"#f7f7f7\"],[0.6,\"#e6f5d0\"],[0.7,\"#b8e186\"],[0.8,\"#7fbc41\"],[0.9,\"#4d9221\"],[1,\"#276419\"]]},\"xaxis\":{\"gridcolor\":\"white\",\"linecolor\":\"white\",\"ticks\":\"\",\"title\":{\"standoff\":15},\"zerolinecolor\":\"white\",\"automargin\":true,\"zerolinewidth\":2},\"yaxis\":{\"gridcolor\":\"white\",\"linecolor\":\"white\",\"ticks\":\"\",\"title\":{\"standoff\":15},\"zerolinecolor\":\"white\",\"automargin\":true,\"zerolinewidth\":2},\"scene\":{\"xaxis\":{\"backgroundcolor\":\"#E5ECF6\",\"gridcolor\":\"white\",\"linecolor\":\"white\",\"showbackground\":true,\"ticks\":\"\",\"zerolinecolor\":\"white\",\"gridwidth\":2},\"yaxis\":{\"backgroundcolor\":\"#E5ECF6\",\"gridcolor\":\"white\",\"linecolor\":\"white\",\"showbackground\":true,\"ticks\":\"\",\"zerolinecolor\":\"white\",\"gridwidth\":2},\"zaxis\":{\"backgroundcolor\":\"#E5ECF6\",\"gridcolor\":\"white\",\"linecolor\":\"white\",\"showbackground\":true,\"ticks\":\"\",\"zerolinecolor\":\"white\",\"gridwidth\":2}},\"shapedefaults\":{\"line\":{\"color\":\"#2a3f5f\"}},\"annotationdefaults\":{\"arrowcolor\":\"#2a3f5f\",\"arrowhead\":0,\"arrowwidth\":1},\"geo\":{\"bgcolor\":\"white\",\"landcolor\":\"#E5ECF6\",\"subunitcolor\":\"white\",\"showland\":true,\"showlakes\":true,\"lakecolor\":\"white\"},\"title\":{\"x\":0.05},\"mapbox\":{\"style\":\"light\"}}},\"geo\":{\"projection\":{\"type\":\"mercator\"},\"lonaxis\":{\"range\":[-11.0,32.0]},\"lataxis\":{\"range\":[36.0,60.0]},\"scope\":\"europe\",\"showland\":true,\"landcolor\":\"#bdbdbd\",\"showcoastlines\":false,\"showlakes\":false,\"countrywidth\":0.5,\"countrycolor\":\"white\",\"resolution\":50},\"title\":{\"text\":\"Train Map of Europe\"},\"width\":1000,\"height\":800},                        {\"responsive\": true}                    ).then(function(){\n                            \nvar gd = document.getElementById('017b3059-6030-4b95-aa7f-538028b3910f');\nvar x = new MutationObserver(function (mutations, observer) {{\n        var display = window.getComputedStyle(gd).display;\n        if (!display || display === 'none') {{\n            console.log([gd, 'removed!']);\n            Plotly.purge(gd);\n            observer.disconnect();\n        }}\n}});\n\n// Listen for the removal of the full notebook cells\nvar notebookContainer = gd.closest('#notebook-container');\nif (notebookContainer) {{\n    x.observe(notebookContainer, {childList: true});\n}}\n\n// Listen for the clearing of the current output cell\nvar outputEl = gd.closest('.output');\nif (outputEl) {{\n    x.observe(outputEl, {childList: true});\n}}\n\n                        })                };                });            </script>        </div>"
     },
     "metadata": {},
     "output_type": "display_data"
    }
   ],
   "source": [
    "import plotly.graph_objects as go\n",
    "\n",
    "fig = go.Figure()\n",
    "\n",
    "fig.add_trace(go.Scattergeo(\n",
    "    lon = cities_df['longitude'],\n",
    "    lat = cities_df['latitude'],\n",
    "    text = cities_df['city'],\n",
    "    mode = 'markers',\n",
    "    marker = dict(\n",
    "        size = 8,\n",
    "        color = '#fc9272',\n",
    "        symbol = 'circle'\n",
    "    ),\n",
    "    hovertemplate=(\n",
    "        '<b>%{text}</b><br>' +\n",
    "        'Lat: %{lat:.2f} Lon: %{lon:.2f}<br>' +\n",
    "        '<extra></extra>'  #hide trace name\n",
    "    ),\n",
    "     hoverlabel=dict(\n",
    "        bgcolor=\"white\",\n",
    "        bordercolor=\"white\",\n",
    "        font_size=12,     \n",
    "        font_family=\"Open Sans\",\n",
    "        font_color=\"black\"\n",
    "        \n",
    "    )\n",
    "))\n",
    "\n",
    "fig.update_layout(\n",
    "    title = 'Train Map of Europe',\n",
    "    geo = dict(\n",
    "        scope = 'europe',\n",
    "        projection_type = 'mercator',\n",
    "        showland = True,\n",
    "        landcolor = '#bdbdbd',\n",
    "        showcoastlines = False,\n",
    "        showlakes = False,\n",
    "        countrywidth = 0.5,\n",
    "        countrycolor = 'white',\n",
    "        lonaxis=dict(\n",
    "            range=[-11.0, 32.0]\n",
    "        ),\n",
    "        lataxis=dict(\n",
    "            range=[36.0, 60.0]\n",
    "        ),\n",
    "        resolution=50\n",
    "    ),\n",
    "    width=1000,\n",
    "    height=800\n",
    ")\n",
    "\n",
    "fig.show()"
   ],
   "metadata": {
    "collapsed": false,
    "ExecuteTime": {
     "end_time": "2024-06-15T19:07:01.323670Z",
     "start_time": "2024-06-15T19:07:01.280450Z"
    }
   },
   "id": "a7335d933e53ef02",
   "execution_count": 49
  }
 ],
 "metadata": {
  "kernelspec": {
   "display_name": "Python",
   "language": "python",
   "name": "python3"
  },
  "language_info": {
   "codemirror_mode": {
    "name": "ipython",
    "version": 3
   },
   "file_extension": ".py",
   "mimetype": "text/x-python",
   "name": "python",
   "nbconvert_exporter": "python",
   "pygments_lexer": "ipython3",
   "version": "3.8.10"
  }
 },
 "nbformat": 4,
 "nbformat_minor": 5
}
