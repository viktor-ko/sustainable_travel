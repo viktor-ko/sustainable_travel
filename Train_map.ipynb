{
 "cells": [
  {
   "cell_type": "markdown",
   "id": "4d21f1bd",
   "metadata": {},
   "source": [
    "## Vega altair map test"
   ]
  },
  {
   "cell_type": "code",
   "execution_count": 2,
   "id": "e3326047",
   "metadata": {
    "ExecuteTime": {
     "end_time": "2024-06-14T15:27:40.165025100Z",
     "start_time": "2024-06-14T15:27:34.185658200Z"
    }
   },
   "outputs": [
    {
     "name": "stdout",
     "output_type": "stream",
     "text": [
      "Note: you may need to restart the kernel to use updated packages.\n",
      "Requirement already satisfied: altair in c:\\users\\noeigenschaften\\appdata\\roaming\\python\\python39\\site-packages (5.3.0)\n",
      "Requirement already satisfied: jinja2 in c:\\users\\noeigenschaften\\appdata\\local\\programs\\python\\python39\\lib\\site-packages (from altair) (3.1.2)\n",
      "Requirement already satisfied: jsonschema>=3.0 in c:\\users\\noeigenschaften\\appdata\\local\\programs\\python\\python39\\lib\\site-packages (from altair) (4.17.0)\n",
      "Requirement already satisfied: numpy in c:\\users\\noeigenschaften\\appdata\\local\\programs\\python\\python39\\lib\\site-packages (from altair) (1.23.4)\n",
      "Requirement already satisfied: packaging in c:\\users\\noeigenschaften\\appdata\\local\\programs\\python\\python39\\lib\\site-packages (from altair) (21.3)\n",
      "Requirement already satisfied: pandas>=0.25 in c:\\users\\noeigenschaften\\appdata\\local\\programs\\python\\python39\\lib\\site-packages (from altair) (1.5.1)\n",
      "Collecting toolz (from altair)\n",
      "  Downloading toolz-0.12.1-py3-none-any.whl.metadata (5.1 kB)\n",
      "Requirement already satisfied: typing-extensions>=4.0.1 in c:\\users\\noeigenschaften\\appdata\\local\\programs\\python\\python39\\lib\\site-packages (from altair) (4.4.0)\n",
      "Requirement already satisfied: attrs>=17.4.0 in c:\\users\\noeigenschaften\\appdata\\local\\programs\\python\\python39\\lib\\site-packages (from jsonschema>=3.0->altair) (22.1.0)\n",
      "Requirement already satisfied: pyrsistent!=0.17.0,!=0.17.1,!=0.17.2,>=0.14.0 in c:\\users\\noeigenschaften\\appdata\\local\\programs\\python\\python39\\lib\\site-packages (from jsonschema>=3.0->altair) (0.19.2)\n",
      "Requirement already satisfied: python-dateutil>=2.8.1 in c:\\users\\noeigenschaften\\appdata\\local\\programs\\python\\python39\\lib\\site-packages (from pandas>=0.25->altair) (2.8.2)\n",
      "Requirement already satisfied: pytz>=2020.1 in c:\\users\\noeigenschaften\\appdata\\local\\programs\\python\\python39\\lib\\site-packages (from pandas>=0.25->altair) (2022.6)\n",
      "Requirement already satisfied: MarkupSafe>=2.0 in c:\\users\\noeigenschaften\\appdata\\local\\programs\\python\\python39\\lib\\site-packages (from jinja2->altair) (2.1.1)\n",
      "Requirement already satisfied: pyparsing!=3.0.5,>=2.0.2 in c:\\users\\noeigenschaften\\appdata\\local\\programs\\python\\python39\\lib\\site-packages (from packaging->altair) (3.0.9)\n",
      "Requirement already satisfied: six>=1.5 in c:\\users\\noeigenschaften\\appdata\\local\\programs\\python\\python39\\lib\\site-packages (from python-dateutil>=2.8.1->pandas>=0.25->altair) (1.16.0)\n",
      "Downloading toolz-0.12.1-py3-none-any.whl (56 kB)\n",
      "   ---------------------------------------- 56.1/56.1 kB 1.5 MB/s eta 0:00:00\n",
      "Installing collected packages: toolz\n",
      "Successfully installed toolz-0.12.1\n"
     ]
    },
    {
     "name": "stderr",
     "output_type": "stream",
     "text": [
      "WARNING: Ignoring invalid distribution -pencv-python (c:\\users\\noeigenschaften\\appdata\\local\\programs\\python\\python39\\lib\\site-packages)\n",
      "WARNING: Ignoring invalid distribution -rotobuf (c:\\users\\noeigenschaften\\appdata\\local\\programs\\python\\python39\\lib\\site-packages)\n",
      "WARNING: Ignoring invalid distribution -pencv-python (c:\\users\\noeigenschaften\\appdata\\local\\programs\\python\\python39\\lib\\site-packages)\n",
      "WARNING: Ignoring invalid distribution -rotobuf (c:\\users\\noeigenschaften\\appdata\\local\\programs\\python\\python39\\lib\\site-packages)\n",
      "\n",
      "[notice] A new release of pip is available: 23.3.1 -> 24.0\n",
      "[notice] To update, run: python.exe -m pip install --upgrade pip\n"
     ]
    }
   ],
   "source": [
    "pip install altair"
   ]
  },
  {
   "cell_type": "code",
   "execution_count": 3,
   "id": "87d4c1f7",
   "metadata": {
    "ExecuteTime": {
     "end_time": "2024-06-14T15:27:53.333272100Z",
     "start_time": "2024-06-14T15:27:48.980621500Z"
    }
   },
   "outputs": [
    {
     "name": "stdout",
     "output_type": "stream",
     "text": [
      "Note: you may need to restart the kernel to use updated packages.\n",
      "Requirement already satisfied: vega_datasets in c:\\users\\noeigenschaften\\appdata\\roaming\\python\\python39\\site-packages (0.9.0)\n",
      "Requirement already satisfied: pandas in c:\\users\\noeigenschaften\\appdata\\local\\programs\\python\\python39\\lib\\site-packages (from vega_datasets) (1.5.1)\n",
      "Requirement already satisfied: python-dateutil>=2.8.1 in c:\\users\\noeigenschaften\\appdata\\local\\programs\\python\\python39\\lib\\site-packages (from pandas->vega_datasets) (2.8.2)\n",
      "Requirement already satisfied: pytz>=2020.1 in c:\\users\\noeigenschaften\\appdata\\local\\programs\\python\\python39\\lib\\site-packages (from pandas->vega_datasets) (2022.6)\n",
      "Requirement already satisfied: numpy>=1.20.3 in c:\\users\\noeigenschaften\\appdata\\local\\programs\\python\\python39\\lib\\site-packages (from pandas->vega_datasets) (1.23.4)\n",
      "Requirement already satisfied: six>=1.5 in c:\\users\\noeigenschaften\\appdata\\local\\programs\\python\\python39\\lib\\site-packages (from python-dateutil>=2.8.1->pandas->vega_datasets) (1.16.0)\n"
     ]
    },
    {
     "name": "stderr",
     "output_type": "stream",
     "text": [
      "WARNING: Ignoring invalid distribution -pencv-python (c:\\users\\noeigenschaften\\appdata\\local\\programs\\python\\python39\\lib\\site-packages)\n",
      "WARNING: Ignoring invalid distribution -rotobuf (c:\\users\\noeigenschaften\\appdata\\local\\programs\\python\\python39\\lib\\site-packages)\n",
      "WARNING: Ignoring invalid distribution -pencv-python (c:\\users\\noeigenschaften\\appdata\\local\\programs\\python\\python39\\lib\\site-packages)\n",
      "WARNING: Ignoring invalid distribution -rotobuf (c:\\users\\noeigenschaften\\appdata\\local\\programs\\python\\python39\\lib\\site-packages)\n",
      "\n",
      "[notice] A new release of pip is available: 23.3.1 -> 24.0\n",
      "[notice] To update, run: python.exe -m pip install --upgrade pip\n"
     ]
    }
   ],
   "source": [
    "pip install vega_datasets"
   ]
  },
  {
   "cell_type": "code",
   "execution_count": 4,
   "id": "ea54f254",
   "metadata": {
    "ExecuteTime": {
     "end_time": "2024-06-14T15:28:10.570281Z",
     "start_time": "2024-06-14T15:28:08.511331400Z"
    }
   },
   "outputs": [
    {
     "data": {
      "text/html": "\n<style>\n  #altair-viz-d62b904924dc420f963bb0e4ce24ad22.vega-embed {\n    width: 100%;\n    display: flex;\n  }\n\n  #altair-viz-d62b904924dc420f963bb0e4ce24ad22.vega-embed details,\n  #altair-viz-d62b904924dc420f963bb0e4ce24ad22.vega-embed details summary {\n    position: relative;\n  }\n</style>\n<div id=\"altair-viz-d62b904924dc420f963bb0e4ce24ad22\"></div>\n<script type=\"text/javascript\">\n  var VEGA_DEBUG = (typeof VEGA_DEBUG == \"undefined\") ? {} : VEGA_DEBUG;\n  (function(spec, embedOpt){\n    let outputDiv = document.currentScript.previousElementSibling;\n    if (outputDiv.id !== \"altair-viz-d62b904924dc420f963bb0e4ce24ad22\") {\n      outputDiv = document.getElementById(\"altair-viz-d62b904924dc420f963bb0e4ce24ad22\");\n    }\n    const paths = {\n      \"vega\": \"https://cdn.jsdelivr.net/npm/vega@5?noext\",\n      \"vega-lib\": \"https://cdn.jsdelivr.net/npm/vega-lib?noext\",\n      \"vega-lite\": \"https://cdn.jsdelivr.net/npm/vega-lite@5.17.0?noext\",\n      \"vega-embed\": \"https://cdn.jsdelivr.net/npm/vega-embed@6?noext\",\n    };\n\n    function maybeLoadScript(lib, version) {\n      var key = `${lib.replace(\"-\", \"\")}_version`;\n      return (VEGA_DEBUG[key] == version) ?\n        Promise.resolve(paths[lib]) :\n        new Promise(function(resolve, reject) {\n          var s = document.createElement('script');\n          document.getElementsByTagName(\"head\")[0].appendChild(s);\n          s.async = true;\n          s.onload = () => {\n            VEGA_DEBUG[key] = version;\n            return resolve(paths[lib]);\n          };\n          s.onerror = () => reject(`Error loading script: ${paths[lib]}`);\n          s.src = paths[lib];\n        });\n    }\n\n    function showError(err) {\n      outputDiv.innerHTML = `<div class=\"error\" style=\"color:red;\">${err}</div>`;\n      throw err;\n    }\n\n    function displayChart(vegaEmbed) {\n      vegaEmbed(outputDiv, spec, embedOpt)\n        .catch(err => showError(`Javascript Error: ${err.message}<br>This usually means there's a typo in your chart specification. See the javascript console for the full traceback.`));\n    }\n\n    if(typeof define === \"function\" && define.amd) {\n      requirejs.config({paths});\n      require([\"vega-embed\"], displayChart, err => showError(`Error loading script: ${err.message}`));\n    } else {\n      maybeLoadScript(\"vega\", \"5\")\n        .then(() => maybeLoadScript(\"vega-lite\", \"5.17.0\"))\n        .then(() => maybeLoadScript(\"vega-embed\", \"6\"))\n        .catch(showError)\n        .then(() => displayChart(vegaEmbed));\n    }\n  })({\"config\": {\"view\": {\"continuousWidth\": 300, \"continuousHeight\": 300}}, \"data\": {\"url\": \"https://dmws.hkvservices.nl/dataportal/data.asmx/read?database=vega&key=europe\", \"format\": {\"feature\": \"europe\", \"type\": \"topojson\"}}, \"mark\": {\"type\": \"geoshape\", \"fill\": \"lightgray\", \"stroke\": \"white\"}, \"height\": 600, \"projection\": {\"type\": \"mercator\"}, \"width\": 900, \"$schema\": \"https://vega.github.io/schema/vega-lite/v5.17.0.json\"}, {\"mode\": \"vega-lite\"});\n</script>",
      "text/plain": "alt.Chart(...)"
     },
     "execution_count": 4,
     "metadata": {},
     "output_type": "execute_result"
    }
   ],
   "source": [
    "import altair as alt\n",
    "from vega_datasets import data\n",
    "\n",
    "europe = alt.topo_feature('https://dmws.hkvservices.nl/dataportal/data.asmx/read?database=vega&key=europe', 'europe')\n",
    "\n",
    "alt.Chart(europe).mark_geoshape(\n",
    "    fill='lightgray',\n",
    "    stroke='white'\n",
    ").project(\n",
    "    \"mercator\"\n",
    ").properties(\n",
    "    width=900,\n",
    "    height=600\n",
    ")\n"
   ]
  },
  {
   "cell_type": "code",
   "execution_count": 5,
   "id": "e3ba33a6",
   "metadata": {
    "ExecuteTime": {
     "end_time": "2024-06-14T15:28:46.919490600Z",
     "start_time": "2024-06-14T15:28:46.898288900Z"
    }
   },
   "outputs": [
    {
     "data": {
      "text/html": "\n<style>\n  #altair-viz-c4ceda6a7c69401bb04fec47d39f06c2.vega-embed {\n    width: 100%;\n    display: flex;\n  }\n\n  #altair-viz-c4ceda6a7c69401bb04fec47d39f06c2.vega-embed details,\n  #altair-viz-c4ceda6a7c69401bb04fec47d39f06c2.vega-embed details summary {\n    position: relative;\n  }\n</style>\n<div id=\"altair-viz-c4ceda6a7c69401bb04fec47d39f06c2\"></div>\n<script type=\"text/javascript\">\n  var VEGA_DEBUG = (typeof VEGA_DEBUG == \"undefined\") ? {} : VEGA_DEBUG;\n  (function(spec, embedOpt){\n    let outputDiv = document.currentScript.previousElementSibling;\n    if (outputDiv.id !== \"altair-viz-c4ceda6a7c69401bb04fec47d39f06c2\") {\n      outputDiv = document.getElementById(\"altair-viz-c4ceda6a7c69401bb04fec47d39f06c2\");\n    }\n    const paths = {\n      \"vega\": \"https://cdn.jsdelivr.net/npm/vega@5?noext\",\n      \"vega-lib\": \"https://cdn.jsdelivr.net/npm/vega-lib?noext\",\n      \"vega-lite\": \"https://cdn.jsdelivr.net/npm/vega-lite@5.17.0?noext\",\n      \"vega-embed\": \"https://cdn.jsdelivr.net/npm/vega-embed@6?noext\",\n    };\n\n    function maybeLoadScript(lib, version) {\n      var key = `${lib.replace(\"-\", \"\")}_version`;\n      return (VEGA_DEBUG[key] == version) ?\n        Promise.resolve(paths[lib]) :\n        new Promise(function(resolve, reject) {\n          var s = document.createElement('script');\n          document.getElementsByTagName(\"head\")[0].appendChild(s);\n          s.async = true;\n          s.onload = () => {\n            VEGA_DEBUG[key] = version;\n            return resolve(paths[lib]);\n          };\n          s.onerror = () => reject(`Error loading script: ${paths[lib]}`);\n          s.src = paths[lib];\n        });\n    }\n\n    function showError(err) {\n      outputDiv.innerHTML = `<div class=\"error\" style=\"color:red;\">${err}</div>`;\n      throw err;\n    }\n\n    function displayChart(vegaEmbed) {\n      vegaEmbed(outputDiv, spec, embedOpt)\n        .catch(err => showError(`Javascript Error: ${err.message}<br>This usually means there's a typo in your chart specification. See the javascript console for the full traceback.`));\n    }\n\n    if(typeof define === \"function\" && define.amd) {\n      requirejs.config({paths});\n      require([\"vega-embed\"], displayChart, err => showError(`Error loading script: ${err.message}`));\n    } else {\n      maybeLoadScript(\"vega\", \"5\")\n        .then(() => maybeLoadScript(\"vega-lite\", \"5.17.0\"))\n        .then(() => maybeLoadScript(\"vega-embed\", \"6\"))\n        .catch(showError)\n        .then(() => displayChart(vegaEmbed));\n    }\n  })({\"config\": {\"view\": {\"continuousWidth\": 300, \"continuousHeight\": 300}}, \"data\": {\"url\": \"https://cdn.jsdelivr.net/npm/vega-datasets@v1.29.0/data/world-110m.json\", \"format\": {\"feature\": \"countries\", \"type\": \"topojson\"}}, \"mark\": {\"type\": \"geoshape\", \"fill\": \"#666666\", \"stroke\": \"white\"}, \"height\": 300, \"projection\": {\"center\": [20, 50], \"clipExtent\": [[0, 0], [300, 300]], \"scale\": 400, \"type\": \"mercator\"}, \"title\": \"Europe (Mercator)\", \"width\": 400, \"$schema\": \"https://vega.github.io/schema/vega-lite/v5.17.0.json\"}, {\"mode\": \"vega-lite\"});\n</script>",
      "text/plain": "alt.Chart(...)"
     },
     "execution_count": 5,
     "metadata": {},
     "output_type": "execute_result"
    }
   ],
   "source": [
    "import altair as alt\n",
    "from vega_datasets import data\n",
    "\n",
    "countries = alt.topo_feature(data.world_110m.url, 'countries')\n",
    "\n",
    "alt.Chart(countries).mark_geoshape(\n",
    "    fill='#666666',\n",
    "    stroke='white'\n",
    ").project(\n",
    "    type= 'mercator',\n",
    "    scale= 400,                          # Magnify\n",
    "    center= [20,50],                     # [lon, lat]\n",
    "    clipExtent= [[0, 0], [300, 300]],    # [[left, top], [right, bottom]]\n",
    ").properties(\n",
    "    title='Europe (Mercator)',\n",
    "    width=400, height=300\n",
    ")\n"
   ]
  },
  {
   "cell_type": "code",
   "execution_count": 8,
   "id": "c838ed8b",
   "metadata": {},
   "outputs": [
    {
     "name": "stdout",
     "output_type": "stream",
     "text": [
      "https://cdn.jsdelivr.net/npm/vega-datasets@v1.29.0/data/world-110m.json\n"
     ]
    }
   ],
   "source": [
    "print (data.world_110m.url)"
   ]
  },
  {
   "cell_type": "code",
   "execution_count": 29,
   "id": "9278242f",
   "metadata": {},
   "outputs": [
    {
     "data": {
      "text/html": [
       "\n",
       "<style>\n",
       "  #altair-viz-3ca8f2a421954c5b9a20f33e6a7b6af8.vega-embed {\n",
       "    width: 100%;\n",
       "    display: flex;\n",
       "  }\n",
       "\n",
       "  #altair-viz-3ca8f2a421954c5b9a20f33e6a7b6af8.vega-embed details,\n",
       "  #altair-viz-3ca8f2a421954c5b9a20f33e6a7b6af8.vega-embed details summary {\n",
       "    position: relative;\n",
       "  }\n",
       "</style>\n",
       "<div id=\"altair-viz-3ca8f2a421954c5b9a20f33e6a7b6af8\"></div>\n",
       "<script type=\"text/javascript\">\n",
       "  var VEGA_DEBUG = (typeof VEGA_DEBUG == \"undefined\") ? {} : VEGA_DEBUG;\n",
       "  (function(spec, embedOpt){\n",
       "    let outputDiv = document.currentScript.previousElementSibling;\n",
       "    if (outputDiv.id !== \"altair-viz-3ca8f2a421954c5b9a20f33e6a7b6af8\") {\n",
       "      outputDiv = document.getElementById(\"altair-viz-3ca8f2a421954c5b9a20f33e6a7b6af8\");\n",
       "    }\n",
       "    const paths = {\n",
       "      \"vega\": \"https://cdn.jsdelivr.net/npm/vega@5?noext\",\n",
       "      \"vega-lib\": \"https://cdn.jsdelivr.net/npm/vega-lib?noext\",\n",
       "      \"vega-lite\": \"https://cdn.jsdelivr.net/npm/vega-lite@5.17.0?noext\",\n",
       "      \"vega-embed\": \"https://cdn.jsdelivr.net/npm/vega-embed@6?noext\",\n",
       "    };\n",
       "\n",
       "    function maybeLoadScript(lib, version) {\n",
       "      var key = `${lib.replace(\"-\", \"\")}_version`;\n",
       "      return (VEGA_DEBUG[key] == version) ?\n",
       "        Promise.resolve(paths[lib]) :\n",
       "        new Promise(function(resolve, reject) {\n",
       "          var s = document.createElement('script');\n",
       "          document.getElementsByTagName(\"head\")[0].appendChild(s);\n",
       "          s.async = true;\n",
       "          s.onload = () => {\n",
       "            VEGA_DEBUG[key] = version;\n",
       "            return resolve(paths[lib]);\n",
       "          };\n",
       "          s.onerror = () => reject(`Error loading script: ${paths[lib]}`);\n",
       "          s.src = paths[lib];\n",
       "        });\n",
       "    }\n",
       "\n",
       "    function showError(err) {\n",
       "      outputDiv.innerHTML = `<div class=\"error\" style=\"color:red;\">${err}</div>`;\n",
       "      throw err;\n",
       "    }\n",
       "\n",
       "    function displayChart(vegaEmbed) {\n",
       "      vegaEmbed(outputDiv, spec, embedOpt)\n",
       "        .catch(err => showError(`Javascript Error: ${err.message}<br>This usually means there's a typo in your chart specification. See the javascript console for the full traceback.`));\n",
       "    }\n",
       "\n",
       "    if(typeof define === \"function\" && define.amd) {\n",
       "      requirejs.config({paths});\n",
       "      require([\"vega-embed\"], displayChart, err => showError(`Error loading script: ${err.message}`));\n",
       "    } else {\n",
       "      maybeLoadScript(\"vega\", \"5\")\n",
       "        .then(() => maybeLoadScript(\"vega-lite\", \"5.17.0\"))\n",
       "        .then(() => maybeLoadScript(\"vega-embed\", \"6\"))\n",
       "        .catch(showError)\n",
       "        .then(() => displayChart(vegaEmbed));\n",
       "    }\n",
       "  })({\"config\": {\"view\": {\"continuousWidth\": 300, \"continuousHeight\": 300}}, \"concat\": [{\"layer\": [{\"data\": {\"sphere\": true}, \"mark\": {\"type\": \"geoshape\", \"fill\": \"none\"}}, {\"data\": {\"graticule\": {\"step\": [10, 10]}}, \"mark\": {\"type\": \"geoshape\", \"stroke\": \"gray\", \"strokeWidth\": 0.5}}, {\"data\": {\"url\": \"https://cdn.jsdelivr.net/npm/vega-datasets@v1.29.0/data/world-110m.json\", \"format\": {\"feature\": \"countries\", \"type\": \"topojson\"}}, \"mark\": {\"type\": \"geoshape\", \"fill\": \"lightgray\", \"stroke\": \"gray\"}}], \"height\": 450, \"projection\": {\"type\": \"conicEquidistant\", \"center\": [0, 52], \"rotate\": [-20, 0], \"translate\": [300.0, 225.0], \"scale\": 700, \"precision\": 0.1}, \"title\": \"Equidistanc conic\", \"width\": 600}, {\"layer\": [{\"data\": {\"sphere\": true}, \"mark\": {\"type\": \"geoshape\", \"fill\": \"none\"}}, {\"data\": {\"graticule\": {\"step\": [10, 10]}}, \"mark\": {\"type\": \"geoshape\", \"stroke\": \"gray\", \"strokeWidth\": 0.5}}, {\"data\": {\"url\": \"https://cdn.jsdelivr.net/npm/vega-datasets@v1.29.0/data/world-110m.json\", \"format\": {\"feature\": \"countries\", \"type\": \"topojson\"}}, \"mark\": {\"type\": \"geoshape\", \"fill\": \"lightgray\", \"stroke\": \"gray\"}}], \"height\": 450, \"projection\": {\"type\": \"conicConformal\", \"center\": [0, 52], \"rotate\": [-20, 0], \"translate\": [300.0, 225.0], \"scale\": 700, \"precision\": 0.1}, \"title\": \"Lambert conformal conic\", \"width\": 600}, {\"layer\": [{\"data\": {\"sphere\": true}, \"mark\": {\"type\": \"geoshape\", \"fill\": \"none\"}}, {\"data\": {\"graticule\": {\"step\": [10, 10]}}, \"mark\": {\"type\": \"geoshape\", \"stroke\": \"gray\", \"strokeWidth\": 0.5}}, {\"data\": {\"url\": \"https://cdn.jsdelivr.net/npm/vega-datasets@v1.29.0/data/world-110m.json\", \"format\": {\"feature\": \"countries\", \"type\": \"topojson\"}}, \"mark\": {\"type\": \"geoshape\", \"fill\": \"lightgray\", \"stroke\": \"gray\"}}], \"height\": 450, \"projection\": {\"type\": \"albers\", \"center\": [0, 52], \"rotate\": [-20, 0], \"translate\": [300.0, 225.0], \"scale\": 700, \"precision\": 0.1}, \"title\": \"Albers\", \"width\": 600}, {\"layer\": [{\"data\": {\"sphere\": true}, \"mark\": {\"type\": \"geoshape\", \"fill\": \"none\"}}, {\"data\": {\"graticule\": {\"step\": [10, 10]}}, \"mark\": {\"type\": \"geoshape\", \"stroke\": \"gray\", \"strokeWidth\": 0.5}}, {\"data\": {\"url\": \"https://cdn.jsdelivr.net/npm/vega-datasets@v1.29.0/data/world-110m.json\", \"format\": {\"feature\": \"countries\", \"type\": \"topojson\"}}, \"mark\": {\"type\": \"geoshape\", \"fill\": \"lightgray\", \"stroke\": \"gray\"}}], \"height\": 450, \"projection\": {\"type\": \"azimuthalEqualArea\", \"rotate\": [-20, -52], \"translate\": [300.0, 225.0], \"scale\": 700, \"precision\": 0.1}, \"title\": \"Lambert azimuthal equal-area projection\", \"width\": 600}], \"columns\": 2, \"$schema\": \"https://vega.github.io/schema/vega-lite/v5.17.0.json\"}, {\"mode\": \"vega-lite\"});\n",
       "</script>"
      ],
      "text/plain": [
       "alt.ConcatChart(...)"
      ]
     },
     "execution_count": 29,
     "metadata": {},
     "output_type": "execute_result"
    }
   ],
   "source": [
    "import altair as alt\n",
    "from vega_datasets import data\n",
    "\n",
    "sphere = alt.sphere()\n",
    "graticule = alt.graticule(step=[10, 10])\n",
    "lats = alt.sequence(start=-30, stop=71, step=10, as_='lats')\n",
    "lons = alt.sequence(start=-90, stop=91, step=10, as_='lons')\n",
    "\n",
    "width = 600\n",
    "height = 450\n",
    "\n",
    "# Source of land data\n",
    "source = alt.topo_feature(data.world_110m.url, 'countries')\n",
    "\n",
    "# Layering and configuring the components \n",
    "base = alt.layer(\n",
    "    alt.Chart(sphere).mark_geoshape(fill='none'), \n",
    "    alt.Chart(graticule).mark_geoshape(stroke='gray', strokeWidth=0.5), \n",
    "    alt.Chart(source).mark_geoshape(fill='lightgray', stroke='gray')    \n",
    ").properties(width=width, height=height)\n",
    "\n",
    "projections = {\n",
    "#     \"Bonne\": {\n",
    "#         \"type\": \"bonne\",\n",
    "#         \"center\": [0, 52],\n",
    "#         \"rotate\": [-20, 0],\n",
    "#         \"parallel\": 52,\n",
    "#         \"translate\": [width/2, height/2],\n",
    "#         \"scale\": 700,\n",
    "#         \"precision\": 0.1\n",
    "#     },\n",
    "    \"Equidistanc conic\": {\n",
    "        \"type\": \"conicEquidistant\",\n",
    "        \"center\": [0, 52],\n",
    "        \"rotate\": [-20, 0],        \n",
    "#         \"parallels\": [35, 65],\n",
    "        \"translate\": [width/2, height/2],\n",
    "        \"scale\": 700,\n",
    "        \"precision\": 0.1        \n",
    "    },\n",
    "    \"Lambert conformal conic\": {\n",
    "        \"type\": \"conicConformal\",\n",
    "        \"center\": [0, 52],\n",
    "        \"rotate\": [-20, 0],\n",
    "#         \"parallels\": [35, 65],\n",
    "        \"translate\": [width/2, height/2],\n",
    "        \"scale\": 700,\n",
    "        \"precision\": 0.1        \n",
    "    },\n",
    "    \"Albers\": {\n",
    "        \"type\": \"albers\",\n",
    "        \"center\": [0, 52],\n",
    "        \"rotate\": [-20, 0],\n",
    "#         \"parallels\": [35, 65],\n",
    "        \"translate\": [width/2, height/2],\n",
    "        \"scale\": 700,\n",
    "        \"precision\": 0.1        \n",
    "    },\n",
    "    \"Lambert azimuthal equal-area projection\": {\n",
    "        \"type\": \"azimuthalEqualArea\",        \n",
    "        \"rotate\": [-20, -52],\n",
    "        \"translate\": [width/2, height/2],\n",
    "        \"scale\": 700,\n",
    "        \"precision\": 0.1        \n",
    "    }    \n",
    "}\n",
    "\n",
    "charts = [base.properties(projection=projections[key], title=key) for key in projections.keys()]\n",
    "alt.concat(*charts, columns=2)"
   ]
  }
 ],
 "metadata": {
  "kernelspec": {
   "display_name": "Python 3 (ipykernel)",
   "language": "python",
   "name": "python3"
  },
  "language_info": {
   "codemirror_mode": {
    "name": "ipython",
    "version": 3
   },
   "file_extension": ".py",
   "mimetype": "text/x-python",
   "name": "python",
   "nbconvert_exporter": "python",
   "pygments_lexer": "ipython3",
   "version": "3.9.13"
  }
 },
 "nbformat": 4,
 "nbformat_minor": 5
}
